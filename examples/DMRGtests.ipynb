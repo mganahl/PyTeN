{
 "cells": [
  {
   "cell_type": "code",
   "execution_count": 94,
   "metadata": {},
   "outputs": [
    {
     "name": "stdout",
     "output_type": "stream",
     "text": [
      "The autoreload extension is already loaded. To reload it, use:\n",
      "  %reload_ext autoreload\n"
     ]
    }
   ],
   "source": [
    "%load_ext autoreload\n",
    "%autoreload 2\n",
    "import lib.mpslib.mpsfunctions as mf\n",
    "import lib.mpslib.Container as CO\n",
    "import lib.mpslib.TensorNetwork as TN\n",
    "import lib.mpslib.MPO as MPO\n",
    "import lib.mpslib.SimContainer as SCT\n",
    "from lib.mpslib.Tensor import Tensor\n",
    "import lib.ncon as ncon\n",
    "import numpy as np"
   ]
  },
  {
   "cell_type": "code",
   "execution_count": 95,
   "metadata": {},
   "outputs": [
    {
     "name": "stdout",
     "output_type": "stream",
     "text": [
      "[1.3622319599507738e-15, 1.1236945035813878e-15, 1.2471903466604415e-14]\n"
     ]
    }
   ],
   "source": [
    "tn=TN.TensorNetwork.random(shape=(3,1),tensorshapes=(2,3),minval=-0.5, maxval=0.5)\n",
    "mps=TN.MPS.random(D=[10,10,10,10],d=[2,2,2],minval=-0.5,maxval=0.5)\n",
    "\n",
    "mps.canonize()\n",
    "limps=mps.get_left_orthogonal_imps()\n",
    "print([mps.ortho_deviation(limps.get_tensor(n),'l') for n in range(len(limps))])\n"
   ]
  },
  {
   "cell_type": "code",
   "execution_count": 85,
   "metadata": {},
   "outputs": [
    {
     "name": "stdout",
     "output_type": "stream",
     "text": [
      "[1.8164029952835588e-15, 8.876156182882996e-16, 8.983213942532948e-15]\n",
      "[1.43093487463788e-15, 1.4388000401200386e-15, 9.248945752425764e-15]\n"
     ]
    }
   ],
   "source": [
    "mps.position(len(mps))\n",
    "print([mps.ortho_deviation(mps.get_tensor(n),'l') for n in range(len(mps))])\n",
    "mps.position(0)\n",
    "mps.position(len(mps))\n",
    "print([mps.ortho_deviation(mps.get_tensor(n),'l') for n in range(len(mps))])\n",
    "\n"
   ]
  },
  {
   "cell_type": "code",
   "execution_count": 86,
   "metadata": {},
   "outputs": [
    {
     "ename": "NotImplementedError",
     "evalue": "",
     "output_type": "error",
     "traceback": [
      "\u001b[0;31m---------------------------------------------------------------------------\u001b[0m",
      "\u001b[0;31mNotImplementedError\u001b[0m                       Traceback (most recent call last)",
      "\u001b[0;32m<ipython-input-86-f212e86561d8>\u001b[0m in \u001b[0;36m<module>\u001b[0;34m()\u001b[0m\n\u001b[0;32m----> 1\u001b[0;31m \u001b[0mmps\u001b[0m\u001b[0;34m.\u001b[0m\u001b[0mregauge\u001b[0m\u001b[0;34m(\u001b[0m\u001b[0;34m'r'\u001b[0m\u001b[0;34m,\u001b[0m\u001b[0mnumeig\u001b[0m\u001b[0;34m=\u001b[0m\u001b[0;36m1\u001b[0m\u001b[0;34m)\u001b[0m\u001b[0;34m\u001b[0m\u001b[0;34m\u001b[0m\u001b[0m\n\u001b[0m\u001b[1;32m      2\u001b[0m \u001b[0mprint\u001b[0m\u001b[0;34m(\u001b[0m\u001b[0;34m[\u001b[0m\u001b[0mmps\u001b[0m\u001b[0;34m.\u001b[0m\u001b[0mortho_deviation\u001b[0m\u001b[0;34m(\u001b[0m\u001b[0mmps\u001b[0m\u001b[0;34m.\u001b[0m\u001b[0mget_tensor\u001b[0m\u001b[0;34m(\u001b[0m\u001b[0mn\u001b[0m\u001b[0;34m)\u001b[0m\u001b[0;34m,\u001b[0m\u001b[0;34m'r'\u001b[0m\u001b[0;34m)\u001b[0m \u001b[0;32mfor\u001b[0m \u001b[0mn\u001b[0m \u001b[0;32min\u001b[0m \u001b[0mrange\u001b[0m\u001b[0;34m(\u001b[0m\u001b[0mlen\u001b[0m\u001b[0;34m(\u001b[0m\u001b[0mmps\u001b[0m\u001b[0;34m)\u001b[0m\u001b[0;34m)\u001b[0m\u001b[0;34m]\u001b[0m\u001b[0;34m)\u001b[0m\u001b[0;34m\u001b[0m\u001b[0;34m\u001b[0m\u001b[0m\n\u001b[1;32m      3\u001b[0m \u001b[0mmps\u001b[0m\u001b[0;34m.\u001b[0m\u001b[0mregauge\u001b[0m\u001b[0;34m(\u001b[0m\u001b[0;34m'l'\u001b[0m\u001b[0;34m,\u001b[0m\u001b[0mnumeig\u001b[0m\u001b[0;34m=\u001b[0m\u001b[0;36m1\u001b[0m\u001b[0;34m)\u001b[0m\u001b[0;34m\u001b[0m\u001b[0;34m\u001b[0m\u001b[0m\n\u001b[1;32m      4\u001b[0m \u001b[0mprint\u001b[0m\u001b[0;34m(\u001b[0m\u001b[0;34m[\u001b[0m\u001b[0mmps\u001b[0m\u001b[0;34m.\u001b[0m\u001b[0mortho_deviation\u001b[0m\u001b[0;34m(\u001b[0m\u001b[0mmps\u001b[0m\u001b[0;34m.\u001b[0m\u001b[0mget_tensor\u001b[0m\u001b[0;34m(\u001b[0m\u001b[0mn\u001b[0m\u001b[0;34m)\u001b[0m\u001b[0;34m,\u001b[0m\u001b[0;34m'l'\u001b[0m\u001b[0;34m)\u001b[0m \u001b[0;32mfor\u001b[0m \u001b[0mn\u001b[0m \u001b[0;32min\u001b[0m \u001b[0mrange\u001b[0m\u001b[0;34m(\u001b[0m\u001b[0mlen\u001b[0m\u001b[0;34m(\u001b[0m\u001b[0mmps\u001b[0m\u001b[0;34m)\u001b[0m\u001b[0;34m)\u001b[0m\u001b[0;34m]\u001b[0m\u001b[0;34m)\u001b[0m\u001b[0;34m\u001b[0m\u001b[0;34m\u001b[0m\u001b[0m\n\u001b[1;32m      5\u001b[0m \u001b[0mmps\u001b[0m\u001b[0;34m.\u001b[0m\u001b[0mcanonize\u001b[0m\u001b[0;34m(\u001b[0m\u001b[0mnumeig\u001b[0m\u001b[0;34m=\u001b[0m\u001b[0;36m1\u001b[0m\u001b[0;34m)\u001b[0m\u001b[0;34m\u001b[0m\u001b[0;34m\u001b[0m\u001b[0m\n",
      "\u001b[0;32m~/workspace/git_repos/PyTeN/lib/mpslib/TensorNetwork.py\u001b[0m in \u001b[0;36mregauge\u001b[0;34m(self, gauge, init, precision, ncv, nmax, numeig, pinv, warn_thresh)\u001b[0m\n\u001b[1;32m    800\u001b[0m \u001b[0;34m\u001b[0m\u001b[0m\n\u001b[1;32m    801\u001b[0m     \u001b[0;32mdef\u001b[0m \u001b[0mregauge\u001b[0m\u001b[0;34m(\u001b[0m\u001b[0mself\u001b[0m\u001b[0;34m,\u001b[0m\u001b[0mgauge\u001b[0m\u001b[0;34m,\u001b[0m\u001b[0minit\u001b[0m\u001b[0;34m=\u001b[0m\u001b[0;32mNone\u001b[0m\u001b[0;34m,\u001b[0m\u001b[0mprecision\u001b[0m\u001b[0;34m=\u001b[0m\u001b[0;36m1E-12\u001b[0m\u001b[0;34m,\u001b[0m\u001b[0mncv\u001b[0m\u001b[0;34m=\u001b[0m\u001b[0;36m50\u001b[0m\u001b[0;34m,\u001b[0m\u001b[0mnmax\u001b[0m\u001b[0;34m=\u001b[0m\u001b[0;36m1000\u001b[0m\u001b[0;34m,\u001b[0m\u001b[0mnumeig\u001b[0m\u001b[0;34m=\u001b[0m\u001b[0;36m6\u001b[0m\u001b[0;34m,\u001b[0m\u001b[0mpinv\u001b[0m\u001b[0;34m=\u001b[0m\u001b[0;36m1E-50\u001b[0m\u001b[0;34m,\u001b[0m\u001b[0mwarn_thresh\u001b[0m\u001b[0;34m=\u001b[0m\u001b[0;36m1E-8\u001b[0m\u001b[0;34m)\u001b[0m\u001b[0;34m:\u001b[0m\u001b[0;34m\u001b[0m\u001b[0;34m\u001b[0m\u001b[0m\n\u001b[0;32m--> 802\u001b[0;31m         \u001b[0;32mraise\u001b[0m \u001b[0mNotImplementedError\u001b[0m\u001b[0;34m(\u001b[0m\u001b[0;34m)\u001b[0m\u001b[0;34m\u001b[0m\u001b[0;34m\u001b[0m\u001b[0m\n\u001b[0m\u001b[1;32m    803\u001b[0m         \"\"\"\n\u001b[1;32m    804\u001b[0m         \u001b[0mregauge\u001b[0m \u001b[0mthe\u001b[0m \u001b[0mMPS\u001b[0m \u001b[0minto\u001b[0m \u001b[0mleft\u001b[0m \u001b[0;32mor\u001b[0m \u001b[0mright\u001b[0m \u001b[0mcanonical\u001b[0m \u001b[0mform\u001b[0m \u001b[0;34m(\u001b[0m\u001b[0minplace\u001b[0m\u001b[0;34m)\u001b[0m\u001b[0;34m\u001b[0m\u001b[0;34m\u001b[0m\u001b[0m\n",
      "\u001b[0;31mNotImplementedError\u001b[0m: "
     ]
    }
   ],
   "source": [
    "mps.regauge('r',numeig=1)\n",
    "print([mps.ortho_deviation(mps.get_tensor(n),'r') for n in range(len(mps))])\n",
    "mps.regauge('l',numeig=1)\n",
    "print([mps.ortho_deviation(mps.get_tensor(n),'l') for n in range(len(mps))])\n",
    "mps.canonize(numeig=1)\n",
    "print([mps.ortho_deviation(mps.get_tensor(n),'l') for n in range(len(mps))])\n",
    "mps.position(0)\n",
    "print([mps.ortho_deviation(mps.get_tensor(n),'r') for n in range(len(mps))])\n"
   ]
  },
  {
   "cell_type": "code",
   "execution_count": 87,
   "metadata": {},
   "outputs": [
    {
     "name": "stdout",
     "output_type": "stream",
     "text": [
      "1.0000000000000342\n",
      "1.000000000000033\n"
     ]
    }
   ],
   "source": [
    "print(mps.TMeigs('l',ncv=20,numeig=1)[0])\n",
    "print(mps.TMeigs('r',ncv=20,numeig=1)[0])"
   ]
  },
  {
   "cell_type": "code",
   "execution_count": 88,
   "metadata": {},
   "outputs": [
    {
     "name": "stdout",
     "output_type": "stream",
     "text": [
      "3.1520823301947706e-16\n",
      "7.904792457914725e-16\n",
      "4.839349969133127e-16\n",
      "2.220446049250313e-16\n",
      "[1, 2, 3, 2, 1]\n"
     ]
    }
   ],
   "source": [
    "mps=TN.FiniteMPS.random(D=[1,2,3,2,1],d=[2,2,2,2])\n",
    "canmps=mps.canonize('hello')\n",
    "for g in canmps:\n",
    "    print(mf.ortho_deviation(g,'l'))\n",
    "print(canmps.D)"
   ]
  },
  {
   "cell_type": "code",
   "execution_count": 41,
   "metadata": {},
   "outputs": [
    {
     "data": {
      "text/plain": [
       "[Tensor(-0.37372897),\n",
       " Tensor(-0.28734752),\n",
       " Tensor(0.23851673),\n",
       " Tensor(-0.25525447)]"
      ]
     },
     "execution_count": 41,
     "metadata": {},
     "output_type": "execute_result"
    }
   ],
   "source": [
    "Sz=np.diag([-0.5,0.5])\n",
    "canmps.measure_1site_ops([Sz for n in range(len(mps))],range(len(mps)))"
   ]
  },
  {
   "cell_type": "code",
   "execution_count": 245,
   "metadata": {},
   "outputs": [
    {
     "name": "stdout",
     "output_type": "stream",
     "text": [
      "[1, 2, 4, 2, 1]\n",
      "<class 'lib.mpslib.TensorNetwork.FiniteMPS'>\n",
      "<class 'lib.mpslib.TensorNetwork.CanonizedFiniteMPS'>\n"
     ]
    }
   ],
   "source": [
    "canmps.Gamma[2].shape\n",
    "print(canmps.D)\n",
    "type(np.sin(canmps))\n",
    "mps=canmps.toMPS()\n",
    "print(type(mps))\n",
    "canmps.canonize()\n",
    "canmps.ortho(list(range(len(canmps))),'l')\n",
    "print(type(canmps))"
   ]
  },
  {
   "cell_type": "code",
   "execution_count": 89,
   "metadata": {},
   "outputs": [
    {
     "name": "stdout",
     "output_type": "stream",
     "text": [
      "SS-DMRG it=2/2, site=1/100: optimized E=-44.1144506977412334+0.0000000000000000 at D=400\n",
      "reached maximum iteration number  2\n"
     ]
    },
    {
     "data": {
      "text/plain": [
       "array([-44.1144507])"
      ]
     },
     "execution_count": 89,
     "metadata": {},
     "output_type": "execute_result"
    }
   ],
   "source": [
    "N=100\n",
    "D=10\n",
    "\n",
    "mps=TN.FiniteMPS.random(D=[1]+[D]*(N-1)+[1],d=[2]*N,dtype=np.complex128,numpy_func=np.random.randn)\n",
    "#mpo=MPO.TFI(Jx=np.ones(len(mps)),Bz=np.ones(len(mps)))\n",
    "mpo=MPO.XXZ(Jz=np.ones(len(mps)-1),Jxy=np.ones(len(mps)-1),Bz=np.zeros(len(mps)))\n",
    "\n",
    "# sim=SCT.MPSSimulation(mps,mpo)\n",
    "dmrg=SCT.FiniteDMRGengine(mps,mpo)\n",
    "dmrg.run_one_site(verbose=1,Econv=1E-10,Nsweeps=2,ncv=100)"
   ]
  },
  {
   "cell_type": "code",
   "execution_count": 59,
   "metadata": {},
   "outputs": [],
   "source": [
    "canmps=mps.canonize()"
   ]
  },
  {
   "cell_type": "code",
   "execution_count": 60,
   "metadata": {},
   "outputs": [],
   "source": [
    "Sz=np.diag([-0.5,0.5])\n",
    "sz_1=canmps.measure_1site_ops([Sz for n in range(len(mps))],range(len(mps)))"
   ]
  },
  {
   "cell_type": "code",
   "execution_count": 61,
   "metadata": {},
   "outputs": [],
   "source": [
    "Sz=np.diag([-0.5,0.5])\n",
    "sz_2=mps.measure_1site_ops([Sz for n in range(len(mps))],range(len(mps)))"
   ]
  },
  {
   "cell_type": "code",
   "execution_count": 62,
   "metadata": {},
   "outputs": [
    {
     "data": {
      "text/plain": [
       "array([-2.77555756e-17-2.18398524e-17j,  1.21430643e-17+7.76320180e-19j,\n",
       "        0.00000000e+00-9.55086529e-18j,  9.54097912e-17+5.96128474e-19j,\n",
       "       -2.42861287e-17-2.60902599e-17j,  3.46944695e-17-7.03375072e-17j,\n",
       "       -1.14491749e-16+2.65564554e-17j, -7.28583860e-17+3.50292981e-17j,\n",
       "        8.32667268e-17+6.56051118e-19j, -1.38777878e-17-1.82209820e-17j,\n",
       "       -2.42861287e-17+2.04101140e-17j,  0.00000000e+00-1.45278641e-17j,\n",
       "        4.51028104e-17-1.01124134e-18j, -6.24500451e-17-1.32792825e-17j,\n",
       "        6.59194921e-17-3.40607559e-17j, -7.63278329e-17-2.05060573e-17j,\n",
       "        3.81639165e-17+3.34046026e-17j, -6.59194921e-17+1.07193160e-17j,\n",
       "        6.59194921e-17+2.64371255e-17j, -1.07552856e-16-1.06093483e-17j,\n",
       "        1.38777878e-17+1.65188572e-17j,  5.89805982e-17-3.32008843e-17j,\n",
       "        3.12250226e-17+3.71623539e-17j, -4.51028104e-17-3.71558525e-17j,\n",
       "        1.66533454e-16+6.17273331e-17j, -5.55111512e-17-1.22354709e-18j,\n",
       "        1.45716772e-16+9.80935547e-18j, -1.76941795e-16-4.28843978e-17j,\n",
       "        9.71445147e-17+5.54703702e-17j, -1.17961196e-16-1.90722789e-17j,\n",
       "        5.55111512e-17+8.25925591e-17j, -1.59594560e-16-7.13140296e-17j,\n",
       "        1.17961196e-16+3.67676637e-17j, -4.16333634e-17-2.24088790e-17j,\n",
       "        4.85722573e-17-3.95582489e-18j, -6.93889390e-18-2.67711839e-17j,\n",
       "       -4.16333634e-17+2.24169899e-17j, -2.08166817e-17+1.02422960e-17j,\n",
       "        0.00000000e+00+1.95022858e-17j,  0.00000000e+00+1.12636837e-17j,\n",
       "        5.55111512e-17+2.42843364e-17j, -4.85722573e-17-4.81673521e-17j,\n",
       "        3.46944695e-17-3.97194293e-17j, -2.77555756e-17-4.59239749e-17j,\n",
       "        1.04083409e-16+6.90389353e-17j, -6.93889390e-18-4.31020516e-17j,\n",
       "        0.00000000e+00+4.94447411e-18j, -3.46944695e-17-5.82044809e-17j,\n",
       "        6.93889390e-17+1.81811569e-17j, -1.66533454e-16-3.78857613e-17j,\n",
       "        7.63278329e-17+3.40574219e-17j, -3.46944695e-17-6.21173533e-17j,\n",
       "        8.32667268e-17+6.15847736e-17j, -1.59594560e-16-2.35947281e-17j,\n",
       "        7.63278329e-17+3.83918770e-17j, -1.17961196e-16-3.41514550e-17j,\n",
       "        4.85722573e-17+4.49751775e-17j, -1.73472348e-16-2.99798189e-18j,\n",
       "        9.71445147e-17+5.28081428e-17j, -1.45716772e-16-1.74002054e-17j,\n",
       "        1.73472348e-16-2.46125074e-17j, -2.01227923e-16+3.94907491e-17j,\n",
       "        1.66533454e-16-2.59865892e-17j, -2.42861287e-16-2.87360174e-17j,\n",
       "        1.59594560e-16+1.80191588e-17j, -9.71445147e-17+4.01759923e-17j,\n",
       "        4.16333634e-17-7.89987571e-18j,  2.77555756e-17+2.54547679e-18j,\n",
       "       -8.32667268e-17-5.48151630e-17j,  4.16333634e-17+3.29750491e-17j,\n",
       "       -1.38777878e-17-3.09426177e-17j,  6.93889390e-17+1.37475796e-17j,\n",
       "       -2.08166817e-17+1.97999185e-17j,  1.66533454e-16-1.07844665e-17j,\n",
       "       -2.35922393e-16-2.88553417e-17j,  0.00000000e+00+6.99705482e-19j,\n",
       "       -8.32667268e-17-1.72310678e-17j,  2.77555756e-17-5.25165332e-18j,\n",
       "       -6.93889390e-18-1.65686138e-17j,  5.55111512e-17-1.75035511e-18j,\n",
       "       -5.55111512e-17-2.45685812e-18j,  4.16333634e-17+7.04970382e-18j,\n",
       "        3.46944695e-17-1.07931055e-17j, -8.32667268e-17+1.72495332e-17j,\n",
       "        1.07552856e-16+3.96235911e-18j, -2.77555756e-17+2.60058416e-17j,\n",
       "       -1.38777878e-17-4.18657905e-17j, -4.85722573e-17+2.53115470e-17j,\n",
       "        1.11022302e-16-4.50952788e-17j, -8.32667268e-17-1.12497066e-17j,\n",
       "        8.32667268e-17+3.66920992e-18j, -1.90819582e-16+2.17084165e-17j,\n",
       "        2.42861287e-17-2.52011487e-17j, -1.73472348e-16+1.87705023e-17j,\n",
       "       -2.77555756e-17+9.11712395e-18j, -1.04083409e-17+1.57484898e-17j,\n",
       "        9.02056208e-17-4.87777046e-17j, -7.28583860e-17-2.11513124e-17j,\n",
       "        5.89805982e-17-1.29599356e-17j, -9.71445147e-17+2.77555756e-17j])"
      ]
     },
     "execution_count": 62,
     "metadata": {},
     "output_type": "execute_result"
    }
   ],
   "source": [
    "sz_1-sz_2"
   ]
  },
  {
   "cell_type": "code",
   "execution_count": 26,
   "metadata": {},
   "outputs": [
    {
     "name": "stdout",
     "output_type": "stream",
     "text": [
      "SS-DMRG it=1/10, site=1/100: optimized E=-44.1146468899851811+0.0000000000000000 at D=400"
     ]
    },
    {
     "ename": "PicklingError",
     "evalue": "Can't pickle <class 'lib.mpslib.TensorNetwork.FiniteMPS'>: it's not the same object as lib.mpslib.TensorNetwork.FiniteMPS",
     "output_type": "error",
     "traceback": [
      "\u001b[0;31m---------------------------------------------------------------------------\u001b[0m",
      "\u001b[0;31mPicklingError\u001b[0m                             Traceback (most recent call last)",
      "\u001b[0;32m<ipython-input-26-460fd0898c7d>\u001b[0m in \u001b[0;36m<module>\u001b[0;34m()\u001b[0m\n\u001b[0;32m----> 1\u001b[0;31m \u001b[0mdmrg\u001b[0m\u001b[0;34m.\u001b[0m\u001b[0mrun_one_site\u001b[0m\u001b[0;34m(\u001b[0m\u001b[0mverbose\u001b[0m\u001b[0;34m=\u001b[0m\u001b[0;36m1\u001b[0m\u001b[0;34m,\u001b[0m\u001b[0mEconv\u001b[0m\u001b[0;34m=\u001b[0m\u001b[0;36m1E-10\u001b[0m\u001b[0;34m,\u001b[0m\u001b[0mNsweeps\u001b[0m\u001b[0;34m=\u001b[0m\u001b[0;36m10\u001b[0m\u001b[0;34m,\u001b[0m\u001b[0mcp\u001b[0m\u001b[0;34m=\u001b[0m\u001b[0;36m1\u001b[0m\u001b[0;34m)\u001b[0m\u001b[0;34m\u001b[0m\u001b[0;34m\u001b[0m\u001b[0m\n\u001b[0m",
      "\u001b[0;32m~/workspace/git_repos/PyTeN/lib/mpslib/SimContainer.py\u001b[0m in \u001b[0;36mrun_one_site\u001b[0;34m(self, Nsweeps, Econv, ncv, cp, verbose, Ndiag, landelta, landeltaEta)\u001b[0m\n\u001b[1;32m    381\u001b[0m \u001b[0;34m\u001b[0m\u001b[0m\n\u001b[1;32m    382\u001b[0m             \u001b[0;32mif\u001b[0m \u001b[0;34m(\u001b[0m\u001b[0mcp\u001b[0m\u001b[0;34m!=\u001b[0m\u001b[0;32mNone\u001b[0m\u001b[0;34m)\u001b[0m \u001b[0;32mand\u001b[0m \u001b[0;34m(\u001b[0m\u001b[0mcp\u001b[0m\u001b[0;34m!=\u001b[0m\u001b[0;36m0\u001b[0m\u001b[0;34m)\u001b[0m \u001b[0;32mand\u001b[0m \u001b[0;34m(\u001b[0m\u001b[0mself\u001b[0m\u001b[0;34m.\u001b[0m\u001b[0m_it\u001b[0m\u001b[0;34m>\u001b[0m\u001b[0;36m0\u001b[0m\u001b[0;34m)\u001b[0m \u001b[0;32mand\u001b[0m \u001b[0;34m(\u001b[0m\u001b[0mself\u001b[0m\u001b[0;34m.\u001b[0m\u001b[0m_it\u001b[0m\u001b[0;34m%\u001b[0m\u001b[0mcp\u001b[0m\u001b[0;34m==\u001b[0m\u001b[0;36m0\u001b[0m\u001b[0;34m)\u001b[0m\u001b[0;34m:\u001b[0m\u001b[0;34m\u001b[0m\u001b[0;34m\u001b[0m\u001b[0m\n\u001b[0;32m--> 383\u001b[0;31m                 \u001b[0mself\u001b[0m\u001b[0;34m.\u001b[0m\u001b[0msave\u001b[0m\u001b[0;34m(\u001b[0m\u001b[0mself\u001b[0m\u001b[0;34m.\u001b[0m\u001b[0mname\u001b[0m\u001b[0;34m+\u001b[0m\u001b[0;34m'_dmrg_cp'\u001b[0m\u001b[0;34m)\u001b[0m\u001b[0;34m\u001b[0m\u001b[0;34m\u001b[0m\u001b[0m\n\u001b[0m\u001b[1;32m    384\u001b[0m             \u001b[0mself\u001b[0m\u001b[0;34m.\u001b[0m\u001b[0m_it\u001b[0m\u001b[0;34m=\u001b[0m\u001b[0mself\u001b[0m\u001b[0;34m.\u001b[0m\u001b[0m_it\u001b[0m\u001b[0;34m+\u001b[0m\u001b[0;36m1\u001b[0m\u001b[0;34m\u001b[0m\u001b[0;34m\u001b[0m\u001b[0m\n\u001b[1;32m    385\u001b[0m             \u001b[0;32mif\u001b[0m \u001b[0mself\u001b[0m\u001b[0;34m.\u001b[0m\u001b[0m_it\u001b[0m\u001b[0;34m>\u001b[0m\u001b[0mNsweeps\u001b[0m\u001b[0;34m:\u001b[0m\u001b[0;34m\u001b[0m\u001b[0;34m\u001b[0m\u001b[0m\n",
      "\u001b[0;32m~/workspace/git_repos/PyTeN/lib/mpslib/Container.py\u001b[0m in \u001b[0;36msave\u001b[0;34m(self, filename)\u001b[0m\n\u001b[1;32m     42\u001b[0m         \u001b[0;32mif\u001b[0m \u001b[0mfilename\u001b[0m \u001b[0;34m!=\u001b[0m \u001b[0;32mNone\u001b[0m\u001b[0;34m:\u001b[0m\u001b[0;34m\u001b[0m\u001b[0;34m\u001b[0m\u001b[0m\n\u001b[1;32m     43\u001b[0m             \u001b[0;32mwith\u001b[0m \u001b[0mopen\u001b[0m\u001b[0;34m(\u001b[0m\u001b[0mfilename\u001b[0m\u001b[0;34m+\u001b[0m\u001b[0;34m'.pickle'\u001b[0m\u001b[0;34m,\u001b[0m \u001b[0;34m'wb'\u001b[0m\u001b[0;34m)\u001b[0m \u001b[0;32mas\u001b[0m \u001b[0mf\u001b[0m\u001b[0;34m:\u001b[0m\u001b[0;34m\u001b[0m\u001b[0;34m\u001b[0m\u001b[0m\n\u001b[0;32m---> 44\u001b[0;31m                 \u001b[0mpickle\u001b[0m\u001b[0;34m.\u001b[0m\u001b[0mdump\u001b[0m\u001b[0;34m(\u001b[0m\u001b[0mself\u001b[0m\u001b[0;34m,\u001b[0m\u001b[0mf\u001b[0m\u001b[0;34m)\u001b[0m\u001b[0;34m\u001b[0m\u001b[0;34m\u001b[0m\u001b[0m\n\u001b[0m\u001b[1;32m     45\u001b[0m         \u001b[0;32melif\u001b[0m \u001b[0mself\u001b[0m\u001b[0;34m.\u001b[0m\u001b[0mname\u001b[0m \u001b[0;34m!=\u001b[0m \u001b[0;32mNone\u001b[0m\u001b[0;34m:\u001b[0m\u001b[0;34m\u001b[0m\u001b[0;34m\u001b[0m\u001b[0m\n\u001b[1;32m     46\u001b[0m             \u001b[0;32mwith\u001b[0m \u001b[0mopen\u001b[0m\u001b[0;34m(\u001b[0m\u001b[0mself\u001b[0m\u001b[0;34m.\u001b[0m\u001b[0mname\u001b[0m\u001b[0;34m+\u001b[0m\u001b[0;34m'.pickle'\u001b[0m\u001b[0;34m,\u001b[0m \u001b[0;34m'wb'\u001b[0m\u001b[0;34m)\u001b[0m \u001b[0;32mas\u001b[0m \u001b[0mf\u001b[0m\u001b[0;34m:\u001b[0m\u001b[0;34m\u001b[0m\u001b[0;34m\u001b[0m\u001b[0m\n",
      "\u001b[0;31mPicklingError\u001b[0m: Can't pickle <class 'lib.mpslib.TensorNetwork.FiniteMPS'>: it's not the same object as lib.mpslib.TensorNetwork.FiniteMPS"
     ]
    }
   ],
   "source": [
    "dmrg.run_one_site(verbose=1,Econv=1E-10,Nsweeps=10,cp=1)"
   ]
  },
  {
   "cell_type": "code",
   "execution_count": 7,
   "metadata": {},
   "outputs": [
    {
     "name": "stdout",
     "output_type": "stream",
     "text": [
      "[1, 2, 4, 8, 10, 10, 10, 10, 10, 10, 10, 10, 10, 10, 10, 10, 10, 10, 10, 10, 10, 10, 10, 10, 10, 10, 10, 10, 10, 10, 10, 10, 10, 10, 10, 10, 10, 10, 10, 10, 10, 10, 10, 10, 10, 10, 10, 10, 10, 10, 10, 10, 10, 10, 10, 10, 10, 10, 10, 10, 10, 10, 10, 10, 10, 10, 10, 10, 10, 10, 10, 10, 10, 10, 10, 10, 10, 10, 10, 10, 10, 10, 10, 10, 10, 10, 10, 10, 10, 10, 10, 10, 10, 10, 10, 10, 10, 8, 4, 2, 1]\n",
      "\u001b[1m\u001b[34m2019123_TFI_VUMPSD128_Jx-1.0_B1.0\u001b[m\u001b[m\r\n",
      "\u001b[1m\u001b[34m2019123_TFI_VUMPSD256_Jx-1.0_B1.0\u001b[m\u001b[m\r\n",
      "\u001b[1m\u001b[34m201918_TFI_ITEBDD32_Jx-1.0_B1.0_dt(-0-0.01j)\u001b[m\u001b[m\r\n",
      "\u001b[1m\u001b[34m201918_TFI_ITEBDD8_Jx-1.0_B1.0_dt(-0-0.01j)\u001b[m\u001b[m\r\n",
      "\u001b[1m\u001b[34m201918_TFI_VUMPSD32_Jx-1.0_B1.0\u001b[m\u001b[m\r\n",
      "\u001b[1m\u001b[34m201918_TFI_VUMPS_TDVPD32_Jx-1.0_B1.0_dt(-0-0.01j)\u001b[m\u001b[m\r\n",
      "\u001b[1m\u001b[34m201918_TFI_VUMPS_TDVPD32_Jx-1.0_B1.0_dt(0.1+0j)\u001b[m\u001b[m\r\n",
      "\u001b[1m\u001b[34m201918_TFI_VUMPS_TDVPD32_Jx-1.0_B1.0_dt(1+0j)\u001b[m\u001b[m\r\n",
      "\u001b[1m\u001b[34m201918_TFI_VUMPS_TDVPD32_Jx-1.0_B1.0_dt0.1j\u001b[m\u001b[m\r\n",
      "\u001b[1m\u001b[34m201918_TFI_VUMPS_TDVPD32_Jx-1.0_B1.0_dt1j\u001b[m\u001b[m\r\n",
      "Branching.py\r\n",
      "DMRG_dmrg_cp.pickle\r\n",
      "HeisIDMRG.py\r\n",
      "HeisIMPS.py\r\n",
      "HeisMPS.py\r\n",
      "HeisVUMPS.py\r\n",
      "ITEBD.py\r\n",
      "ITEBD.py~\r\n",
      "TDVPproductState.py\r\n",
      "TEBD.py\r\n",
      "TEBDproductState.py\r\n",
      "TFI.py\r\n",
      "TFIIDMRG.py\r\n",
      "TFITDVP.py\r\n",
      "TFI_VUMPS.py\r\n",
      "TFI_VUMPS_TDVP.py\r\n",
      "Untitled.ipynb\r\n"
     ]
    }
   ],
   "source": [
    "print(dmrg.mps.D)\n",
    "!ls"
   ]
  },
  {
   "cell_type": "code",
   "execution_count": 10,
   "metadata": {},
   "outputs": [],
   "source": [
    "dmrg2=SCT.DMRGengine.read('DMRG_dmrg_cp.pickle')"
   ]
  },
  {
   "cell_type": "code",
   "execution_count": 11,
   "metadata": {},
   "outputs": [
    {
     "name": "stdout",
     "output_type": "stream",
     "text": [
      "[1, 2, 4, 8, 10, 10, 10, 10, 10, 10, 10, 10, 10, 10, 10, 10, 10, 10, 10, 10, 10, 10, 10, 10, 10, 10, 10, 10, 10, 10, 10, 10, 10, 10, 10, 10, 10, 10, 10, 10, 10, 10, 10, 10, 10, 10, 10, 10, 10, 10, 10, 10, 10, 10, 10, 10, 10, 10, 10, 10, 10, 10, 10, 10, 10, 10, 10, 10, 10, 10, 10, 10, 10, 10, 10, 10, 10, 10, 10, 10, 10, 10, 10, 10, 10, 10, 10, 10, 10, 10, 10, 10, 10, 10, 10, 10, 10, 8, 4, 2, 1]\n"
     ]
    }
   ],
   "source": [
    "print(dmrg2.mps.D)"
   ]
  },
  {
   "cell_type": "code",
   "execution_count": 12,
   "metadata": {},
   "outputs": [
    {
     "name": "stdout",
     "output_type": "stream",
     "text": [
      "1\n",
      "2\n"
     ]
    },
    {
     "data": {
      "text/plain": [
       "array([-44.11635951])"
      ]
     },
     "execution_count": 12,
     "metadata": {},
     "output_type": "execute_result"
    }
   ],
   "source": []
  },
  {
   "cell_type": "code",
   "execution_count": null,
   "metadata": {},
   "outputs": [],
   "source": []
  }
 ],
 "metadata": {
  "kernelspec": {
   "display_name": "Python 3",
   "language": "python",
   "name": "python3"
  },
  "language_info": {
   "codemirror_mode": {
    "name": "ipython",
    "version": 3
   },
   "file_extension": ".py",
   "mimetype": "text/x-python",
   "name": "python",
   "nbconvert_exporter": "python",
   "pygments_lexer": "ipython3",
   "version": "3.7.1"
  }
 },
 "nbformat": 4,
 "nbformat_minor": 2
}
