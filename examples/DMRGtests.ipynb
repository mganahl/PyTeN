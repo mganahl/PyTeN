{
 "cells": [
  {
   "cell_type": "code",
   "execution_count": 1,
   "metadata": {},
   "outputs": [],
   "source": [
    "%load_ext autoreload\n",
    "%autoreload 2\n",
    "import lib.mpslib.mpsfunctions as mf\n",
    "import lib.mpslib.Container as CO\n",
    "import lib.mpslib.TensorNetwork as TN\n",
    "import lib.mpslib.MPO as MPO\n",
    "import lib.mpslib.SimContainer as SCT\n",
    "from lib.mpslib.Tensor import Tensor\n",
    "import lib.ncon as ncon\n",
    "import numpy as np"
   ]
  },
  {
   "cell_type": "code",
   "execution_count": 2,
   "metadata": {},
   "outputs": [
    {
     "name": "stdout",
     "output_type": "stream",
     "text": [
      "[[[0. 0. 0. 0.]\n",
      "  [0. 0. 0. 0.]\n",
      "  [0. 0. 0. 0.]]\n",
      "\n",
      " [[0. 0. 0. 0.]\n",
      "  [0. 0. 0. 0.]\n",
      "  [0. 0. 0. 0.]]]\n"
     ]
    },
    {
     "data": {
      "text/plain": [
       "Tensor([[[6.90945793e-310, 4.66104331e-310, 6.90945812e-310,\n",
       "          6.90945233e-310],\n",
       "         [6.90945233e-310, 6.90941131e-310, 6.90941130e-310,\n",
       "          6.90941131e-310],\n",
       "         [6.90941143e-310, 6.90945812e-310, 6.90945437e-310,\n",
       "          6.90945815e-310]],\n",
       "\n",
       "        [[6.90941131e-310, 6.90941130e-310, 6.90945474e-310,\n",
       "          6.90941131e-310],\n",
       "         [6.90941144e-310, 6.90945709e-310, 6.90945233e-310,\n",
       "          6.90941131e-310],\n",
       "         [6.90941131e-310, 6.90945554e-310, 6.90945814e-310,\n",
       "          6.90945813e-310]]])"
      ]
     },
     "execution_count": 2,
     "metadata": {},
     "output_type": "execute_result"
    }
   ],
   "source": [
    "t=Tensor((2,3,4))\n",
    "a=t.to_dense()\n",
    "b=type(t).from_dense(a,t.shape)\n",
    "print(b-t)\n",
    "b.real"
   ]
  },
  {
   "cell_type": "code",
   "execution_count": 243,
   "metadata": {},
   "outputs": [],
   "source": [
    "tn=TN.TensorNetwork.random(shape=(3,1),tensorshapes=(2,3),minval=-0.5, maxval=0.5)\n",
    "mps=TN.MPS.random(D=[10,10,10,10],d=[2,2,2])\n",
    "mps.canonize()\n"
   ]
  },
  {
   "cell_type": "code",
   "execution_count": 244,
   "metadata": {},
   "outputs": [
    {
     "name": "stdout",
     "output_type": "stream",
     "text": [
      "[9.67242269586796e-16, 1.695216049824042e-15, 7.827049159265633e-15]\n",
      "[9.535385145815844e-15, 1.8882635148194824e-15, 1.5180615992063454e-15]\n",
      "[1.3680502629359525e-15, 9.909700608120933e-16, 8.470665476387635e-15]\n"
     ]
    }
   ],
   "source": [
    "mps.position(len(mps))\n",
    "print([mps.ortho_deviation(mps.get_tensor(n),'l') for n in range(len(mps))])\n",
    "mps.position(0)\n",
    "print([mps.ortho_deviation(mps.get_tensor(n),'r') for n in range(len(mps))])\n",
    "mps.position(len(mps))\n",
    "print([mps.ortho_deviation(mps.get_tensor(n),'l') for n in range(len(mps))])\n"
   ]
  },
  {
   "cell_type": "code",
   "execution_count": 230,
   "metadata": {},
   "outputs": [
    {
     "name": "stdout",
     "output_type": "stream",
     "text": [
      "1.0\n",
      "[-0.74667853 -0.4493895   0.31756647  0.26706872  0.21148722 -0.13166988\n",
      " -0.06093189 -0.04296778  0.02492855 -0.01009585]\n",
      "[0.31622777 0.31622777 0.31622777 0.31622777 0.31622777 0.31622777\n",
      " 0.31622777 0.31622777 0.31622777 0.31622777]\n",
      "[[ 1.65409660e+00 -5.10808592e-17  4.33708282e-16 -2.49262001e-15\n",
      "   1.86556202e-15 -2.61508569e-16  3.81444596e-15 -4.25724244e-16\n",
      "   2.40281678e-15  5.15141173e-16]\n",
      " [-5.10808592e-17  1.65409660e+00 -1.44569427e-16  2.06285794e-15\n",
      "  -9.22605216e-16  1.02424190e-15 -1.13020621e-15 -1.33560547e-15\n",
      "  -1.43881244e-16  2.13161865e-16]\n",
      " [ 4.33708282e-16 -1.44569427e-16  1.65409660e+00  8.05803883e-16\n",
      "   4.34167160e-16  2.35357712e-15  1.57757950e-15  1.70289698e-15\n",
      "   1.79851555e-15 -2.22043609e-15]\n",
      " [-2.49262001e-15  2.06285794e-15  8.05803883e-16  1.65409660e+00\n",
      "   7.59792531e-16  4.35847615e-16  2.11913664e-15 -1.66950684e-16\n",
      "  -1.75535118e-15  2.38030749e-15]\n",
      " [ 1.86556202e-15 -9.22605216e-16  4.34167160e-16  7.59792531e-16\n",
      "   1.65409660e+00  3.48678092e-16  6.59286956e-16 -1.53594629e-15\n",
      "  -1.97117304e-15 -4.54745312e-15]\n",
      " [-2.61508569e-16  1.02424190e-15  2.35357712e-15  4.35847615e-16\n",
      "   3.48678092e-16  1.65409660e+00  3.01388323e-15 -3.03850245e-15\n",
      "   8.05734967e-16  1.77634887e-16]\n",
      " [ 3.81444596e-15 -1.13020621e-15  1.57757950e-15  2.11913664e-15\n",
      "   6.59286956e-16  3.01388323e-15  1.65409660e+00 -2.80477149e-15\n",
      "  -3.22293987e-15 -9.30806809e-15]\n",
      " [-4.25724244e-16 -1.33560547e-15  1.70289698e-15 -1.66950684e-16\n",
      "  -1.53594629e-15 -3.03850245e-15 -2.80477149e-15  1.65409660e+00\n",
      "  -4.08622733e-15 -4.40534521e-15]\n",
      " [ 2.40281678e-15 -1.43881244e-16  1.79851555e-15 -1.75535118e-15\n",
      "  -1.97117304e-15  8.05734967e-16 -3.22293987e-15 -4.08622733e-15\n",
      "   1.65409660e+00 -2.53751437e-14]\n",
      " [ 5.15141173e-16  2.13161865e-16 -2.22043609e-15  2.38030749e-15\n",
      "  -4.54745312e-15  1.77634887e-16 -9.30806809e-15 -4.40534521e-15\n",
      "  -2.53751437e-14  1.65409660e+00]]\n"
     ]
    },
    {
     "data": {
      "text/plain": [
       "Tensor([[ 1.65409660e+00, -5.10808592e-16, -2.89138855e-16,\n",
       "          5.37202589e-17,  7.05521636e-16,  1.30754285e-15,\n",
       "          6.59286956e-16, -1.73628711e-15,  1.20860245e-15,\n",
       "         -7.10539549e-17],\n",
       "        [-5.10808592e-16,  1.65409660e+00,  3.18052740e-15,\n",
       "         -2.14881036e-17, -8.95469768e-16, -1.74339046e-15,\n",
       "         -4.70919254e-16,  1.26882520e-15, -1.43881244e-16,\n",
       "         -7.10539549e-16],\n",
       "        [-2.89138855e-16,  3.18052740e-15,  1.65409660e+00,\n",
       "         -1.16035759e-15,  2.17083580e-16, -1.56905142e-15,\n",
       "         -1.27148199e-15,  1.61942164e-15,  8.92063714e-16,\n",
       "          8.17120482e-16],\n",
       "        [ 5.37202589e-17, -2.14881036e-17, -1.16035759e-15,\n",
       "          1.65409660e+00, -1.30250148e-15, -3.92262854e-16,\n",
       "         -2.82551553e-15,  2.80477149e-15, -5.84157851e-15,\n",
       "          3.12637402e-15],\n",
       "        [ 7.05521636e-16, -8.95469768e-16,  2.17083580e-16,\n",
       "         -1.30250148e-15,  1.65409660e+00,  2.26640760e-15,\n",
       "          2.73133168e-15, -6.27734572e-15,  7.71203468e-15,\n",
       "         -2.70005029e-15],\n",
       "        [ 1.30754285e-15, -1.74339046e-15, -1.56905142e-15,\n",
       "         -3.92262854e-16,  2.26640760e-15,  1.65409660e+00,\n",
       "          1.03602236e-15, -7.93015749e-16,  7.19406221e-15,\n",
       "          1.91845678e-15],\n",
       "        [ 6.59286956e-16, -4.70919254e-16, -1.27148199e-15,\n",
       "         -2.82551553e-15,  2.73133168e-15,  1.03602236e-15,\n",
       "          1.65409660e+00,  1.15195972e-15,  9.78392460e-15,\n",
       "          1.42107910e-15],\n",
       "        [-1.73628711e-15,  1.26882520e-15,  1.61942164e-15,\n",
       "          2.80477149e-15, -6.27734572e-15, -7.93015749e-16,\n",
       "          1.15195972e-15,  1.65409660e+00, -1.47334394e-14,\n",
       "         -3.55269775e-15],\n",
       "        [ 1.20860245e-15, -1.43881244e-16,  8.92063714e-16,\n",
       "         -5.84157851e-15,  7.71203468e-15,  7.19406221e-15,\n",
       "          9.78392460e-15, -1.47334394e-14,  1.65409660e+00,\n",
       "         -9.23701414e-15],\n",
       "        [-7.10539549e-17, -7.10539549e-16,  8.17120482e-16,\n",
       "          3.12637402e-15, -2.70005029e-15,  1.91845678e-15,\n",
       "          1.42107910e-15, -3.55269775e-15, -9.23701414e-15,\n",
       "          1.65409660e+00]])"
      ]
     },
     "execution_count": 230,
     "metadata": {},
     "output_type": "execute_result"
    }
   ],
   "source": [
    "#print(mps.mat)\n",
    "d=np.diag(mps.mat)\n",
    "print(np.linalg.norm(d))\n",
    "print(d)\n",
    "mps.position(0)\n",
    "U=np.dot(mps.connector,mps.mat)\n",
    "u,s,v=np.linalg.svd(U)\n",
    "print(s/np.linalg.norm(s))\n",
    "print(U.dot(U.T))\n",
    "#print(mps.mat)\n",
    "mps.position(len(mps))\n",
    "#print(mps.mat)\n",
    "\n",
    "\n",
    "U=np.dot(mps.mat,mps.connector)\n",
    "U.dot(U.T)"
   ]
  },
  {
   "cell_type": "code",
   "execution_count": 231,
   "metadata": {},
   "outputs": [
    {
     "name": "stdout",
     "output_type": "stream",
     "text": [
      "[3.2210833330546776e-13, 9.62834925834331e-16, 1.2421687711365266e-15]\n",
      "[1.2001592718551822e-15, 1.1539876371333472e-15, 3.3675760902304354e-13]\n",
      "[1.1408931202591956e-15, 1.6386488794068862e-15, 5.1102782265564796e-15]\n",
      "[2.4657596954186877e-13, 1.4385086055676294e-15, 1.910926578296221e-15]\n"
     ]
    }
   ],
   "source": [
    "mps.regauge('r',numeig=1)\n",
    "print([mps.ortho_deviation(mps.get_tensor(n),'r') for n in range(len(mps))])\n",
    "mps.regauge('l',numeig=1)\n",
    "print([mps.ortho_deviation(mps.get_tensor(n),'l') for n in range(len(mps))])\n",
    "mps.canonize(numeig=1)\n",
    "print([mps.ortho_deviation(mps.get_tensor(n),'l') for n in range(len(mps))])\n",
    "mps.position(0)\n",
    "print([mps.ortho_deviation(mps.get_tensor(n),'r') for n in range(len(mps))])\n"
   ]
  },
  {
   "cell_type": "code",
   "execution_count": 183,
   "metadata": {},
   "outputs": [
    {
     "data": {
      "text/plain": [
       "Tensor([[ 0.12326847,  0.013964  , -0.06542101, -0.11766245,  0.14984008,\n",
       "         -0.05639316,  0.00509992,  0.25683938,  0.08531818, -0.035958  ],\n",
       "        [ 0.013964  ,  0.26769385,  0.2435815 ,  0.37385512, -0.23202135,\n",
       "         -0.16643814,  0.00755038,  0.21101918,  0.0133504 , -0.03426347],\n",
       "        [-0.06542101,  0.2435815 ,  1.86426333,  0.74715033,  0.02534461,\n",
       "         -0.24638865,  0.33171092,  0.04819905, -0.17825941, -0.05501127],\n",
       "        [-0.11766245,  0.37385512,  0.74715033,  1.90911518, -0.04962549,\n",
       "          0.0788759 ,  0.37902242, -0.09090118, -0.07928717,  0.02756174],\n",
       "        [ 0.14984008, -0.23202135,  0.02534461, -0.04962549,  1.75546255,\n",
       "          0.38312294, -0.10403328, -0.05656309,  0.06489716,  0.13029469],\n",
       "        [-0.05639316, -0.16643814, -0.24638865,  0.0788759 ,  0.38312294,\n",
       "          1.12333615, -0.50630678, -0.3380895 , -0.05369684,  0.02375007],\n",
       "        [ 0.00509992,  0.00755038,  0.33171092,  0.37902242, -0.10403328,\n",
       "         -0.50630678,  1.64754541, -0.12932421,  0.00391295, -0.02126236],\n",
       "        [ 0.25683938,  0.21101918,  0.04819905, -0.09090118, -0.05656309,\n",
       "         -0.3380895 , -0.12932421,  1.06907189,  0.22151032, -0.06079148],\n",
       "        [ 0.08531818,  0.0133504 , -0.17825941, -0.07928717,  0.06489716,\n",
       "         -0.05369684,  0.00391295,  0.22151032,  0.1468962 ,  0.03019206],\n",
       "        [-0.035958  , -0.03426347, -0.05501127,  0.02756174,  0.13029469,\n",
       "          0.02375007, -0.02126236, -0.06079148,  0.03019206,  0.09334697]])"
      ]
     },
     "execution_count": 183,
     "metadata": {},
     "output_type": "execute_result"
    }
   ],
   "source": [
    "ncon.ncon([mps.get_tensor(0),mps.get_tensor(0).conj()],[[-1,1,2],[-2,1,2]])\n"
   ]
  },
  {
   "cell_type": "code",
   "execution_count": 188,
   "metadata": {},
   "outputs": [],
   "source": [
    "mps.position(len(mps))\n",
    "U=np.dot(mps.mat,mps.connector)"
   ]
  },
  {
   "cell_type": "code",
   "execution_count": 190,
   "metadata": {},
   "outputs": [
    {
     "name": "stdout",
     "output_type": "stream",
     "text": [
      "[[-3.16227766e-01 -1.66533454e-16  4.16333634e-17 -2.77555756e-17\n",
      "   1.73472348e-17  1.80411242e-16  1.80411242e-16  4.77048956e-17\n",
      "  -1.01915004e-16  2.77555756e-17]\n",
      " [ 0.00000000e+00  3.16227766e-01  2.77555756e-16 -1.38777878e-17\n",
      "   1.24900090e-16  1.66533454e-16 -6.93889390e-18  4.16333634e-17\n",
      "  -3.55618313e-17  0.00000000e+00]\n",
      " [ 0.00000000e+00  0.00000000e+00 -3.16227766e-01  1.04083409e-16\n",
      "   0.00000000e+00 -1.83880688e-16  1.00613962e-16  2.97938757e-16\n",
      "  -8.32667268e-17 -3.81639165e-17]\n",
      " [ 0.00000000e+00  0.00000000e+00  0.00000000e+00  3.16227766e-01\n",
      "  -8.32667268e-17 -3.05311332e-16  2.35922393e-16 -1.80411242e-16\n",
      "   6.93889390e-17 -1.81278603e-16]\n",
      " [ 0.00000000e+00  0.00000000e+00  0.00000000e+00  0.00000000e+00\n",
      "  -3.16227766e-01  6.93889390e-17  1.31838984e-16  0.00000000e+00\n",
      "  -4.44089210e-16 -1.11022302e-16]\n",
      " [ 0.00000000e+00  0.00000000e+00  0.00000000e+00  0.00000000e+00\n",
      "   0.00000000e+00 -3.16227766e-01 -1.52655666e-16  0.00000000e+00\n",
      "  -1.66533454e-16 -6.93889390e-18]\n",
      " [ 0.00000000e+00  0.00000000e+00  0.00000000e+00  0.00000000e+00\n",
      "   0.00000000e+00  0.00000000e+00  3.16227766e-01  2.49800181e-16\n",
      "  -1.38777878e-16  2.08166817e-16]\n",
      " [ 0.00000000e+00  0.00000000e+00  0.00000000e+00  0.00000000e+00\n",
      "   0.00000000e+00  0.00000000e+00  0.00000000e+00 -3.16227766e-01\n",
      "   1.11022302e-16  5.55111512e-17]\n",
      " [ 0.00000000e+00  0.00000000e+00  0.00000000e+00  0.00000000e+00\n",
      "   0.00000000e+00  0.00000000e+00  0.00000000e+00  0.00000000e+00\n",
      "  -3.16227766e-01  4.64905892e-16]\n",
      " [ 0.00000000e+00  0.00000000e+00  0.00000000e+00  0.00000000e+00\n",
      "   0.00000000e+00  0.00000000e+00  0.00000000e+00  0.00000000e+00\n",
      "   0.00000000e+00 -3.16227766e-01]]\n"
     ]
    }
   ],
   "source": [
    "U.dot(U.T)\n",
    "print(mps.mat)"
   ]
  },
  {
   "cell_type": "code",
   "execution_count": 88,
   "metadata": {},
   "outputs": [
    {
     "data": {
      "text/plain": [
       "Tensor([[0.01, 0.  , 0.  , ..., 0.  , 0.  , 0.  ],\n",
       "        [0.  , 0.01, 0.  , ..., 0.  , 0.  , 0.  ],\n",
       "        [0.  , 0.  , 0.01, ..., 0.  , 0.  , 0.  ],\n",
       "        ...,\n",
       "        [0.  , 0.  , 0.  , ..., 0.01, 0.  , 0.  ],\n",
       "        [0.  , 0.  , 0.  , ..., 0.  , 0.01, 0.  ],\n",
       "        [0.  , 0.  , 0.  , ..., 0.  , 0.  , 0.01]])"
      ]
     },
     "execution_count": 88,
     "metadata": {},
     "output_type": "execute_result"
    }
   ],
   "source": [
    "mps.get_env_left(mps.pos)\n",
    "mps.get_env_right(0)"
   ]
  },
  {
   "cell_type": "code",
   "execution_count": 92,
   "metadata": {},
   "outputs": [
    {
     "name": "stdout",
     "output_type": "stream",
     "text": [
      "0.16680531565570178\n",
      "0.1668053156557011\n"
     ]
    }
   ],
   "source": [
    "print(mps.TMeigs('l',ncv=20,numeig=1)[0])\n",
    "print(mps.TMeigs('r',ncv=20,numeig=1)[0])"
   ]
  },
  {
   "cell_type": "code",
   "execution_count": 26,
   "metadata": {},
   "outputs": [
    {
     "name": "stdout",
     "output_type": "stream",
     "text": [
      "(2, 3, 2)\n"
     ]
    }
   ],
   "source": [
    "mps=TN.FiniteMPS.random(D=[1,2,3,2,1],d=[2,2,2,2])\n",
    "print(mps[1].shape)"
   ]
  },
  {
   "cell_type": "code",
   "execution_count": 27,
   "metadata": {},
   "outputs": [],
   "source": [
    "canmps=mps.canonize('hello')\n"
   ]
  },
  {
   "cell_type": "code",
   "execution_count": 28,
   "metadata": {},
   "outputs": [
    {
     "name": "stdout",
     "output_type": "stream",
     "text": [
      "1.1102230246251565e-16\n",
      "1.2713144415642293e-15\n",
      "1.2891332888686738e-15\n",
      "5.24944024413195e-16\n"
     ]
    }
   ],
   "source": [
    "for g in canmps.iterator('r'):\n",
    "    print(mf.ortho_deviation(g,'r'))"
   ]
  },
  {
   "cell_type": "code",
   "execution_count": 2,
   "metadata": {},
   "outputs": [
    {
     "name": "stdout",
     "output_type": "stream",
     "text": [
      "0\n",
      "0\n",
      "[[[-1.34222687e-01 -9.90931478e-01]\n",
      "  [ 6.18754219e-03  8.88730761e-04]]\n",
      "\n",
      " [[ 9.90769049e-01 -1.34084774e-01]\n",
      "  [ 1.70836516e-02  1.03011411e-02]]\n",
      "\n",
      " [[ 1.84334158e-02 -7.47228636e-03]\n",
      "  [-6.93356103e-01 -7.20320546e-01]]]\n",
      "[[[-1.34222687e-01 -9.90931478e-01]\n",
      "  [ 6.18754219e-03  8.88730761e-04]]\n",
      "\n",
      " [[ 9.90769049e-01 -1.34084774e-01]\n",
      "  [ 1.70836516e-02  1.03011411e-02]]\n",
      "\n",
      " [[ 1.84334158e-02 -7.47228636e-03]\n",
      "  [-6.93356103e-01 -7.20320546e-01]]]\n",
      "[[-1.]]\n",
      "[[-1.]]\n"
     ]
    }
   ],
   "source": []
  },
  {
   "cell_type": "code",
   "execution_count": 245,
   "metadata": {},
   "outputs": [
    {
     "name": "stdout",
     "output_type": "stream",
     "text": [
      "[1, 2, 4, 2, 1]\n",
      "<class 'lib.mpslib.TensorNetwork.FiniteMPS'>\n",
      "<class 'lib.mpslib.TensorNetwork.CanonizedFiniteMPS'>\n"
     ]
    }
   ],
   "source": [
    "canmps.Gamma[2].shape\n",
    "print(canmps.D)\n",
    "type(np.sin(canmps))\n",
    "mps=canmps.toMPS()\n",
    "print(type(mps))\n",
    "canmps.canonize()\n",
    "canmps.ortho(list(range(len(canmps))),'l')\n",
    "print(type(canmps))"
   ]
  },
  {
   "cell_type": "code",
   "execution_count": 7,
   "metadata": {},
   "outputs": [],
   "source": [
    "N=100\n",
    "D=100\n",
    "\n",
    "mps=TN.FiniteMPS.random(D=[1]+[D]*(N-1)+[1],d=[2]*N,dtype=np.complex128,numpy_func=np.random.randn)\n",
    "#mpo=MPO.TFI(Jx=np.ones(len(mps)),Bz=np.ones(len(mps)))\n",
    "mpo=MPO.XXZ(Jz=np.ones(len(mps)-1),Jxy=np.ones(len(mps)-1),Bz=np.zeros(len(mps)))\n",
    "\n",
    "# sim=SCT.MPSSimulation(mps,mpo)\n",
    "dmrg=SCT.FiniteDMRGengine(mps,mpo)\n"
   ]
  },
  {
   "cell_type": "code",
   "execution_count": 8,
   "metadata": {},
   "outputs": [
    {
     "name": "stdout",
     "output_type": "stream",
     "text": [
      "SS-DMRG it=2/40, site=25/100: optimized E=-44.1277396975178107+0.0000000000000000 at D=100"
     ]
    },
    {
     "ename": "KeyboardInterrupt",
     "evalue": "",
     "output_type": "error",
     "traceback": [
      "\u001b[0;31m---------------------------------------------------------------------------\u001b[0m",
      "\u001b[0;31mKeyboardInterrupt\u001b[0m                         Traceback (most recent call last)",
      "\u001b[0;32m<ipython-input-8-841853343263>\u001b[0m in \u001b[0;36m<module>\u001b[0;34m()\u001b[0m\n\u001b[0;32m----> 1\u001b[0;31m \u001b[0mdmrg\u001b[0m\u001b[0;34m.\u001b[0m\u001b[0mrunOneSite\u001b[0m\u001b[0;34m(\u001b[0m\u001b[0mverbose\u001b[0m\u001b[0;34m=\u001b[0m\u001b[0;36m1\u001b[0m\u001b[0;34m,\u001b[0m\u001b[0mEconv\u001b[0m\u001b[0;34m=\u001b[0m\u001b[0;36m1E-10\u001b[0m\u001b[0;34m,\u001b[0m\u001b[0mNsweeps\u001b[0m\u001b[0;34m=\u001b[0m\u001b[0;36m40\u001b[0m\u001b[0;34m,\u001b[0m\u001b[0mncv\u001b[0m\u001b[0;34m=\u001b[0m\u001b[0;36m100\u001b[0m\u001b[0;34m)\u001b[0m\u001b[0;34m\u001b[0m\u001b[0;34m\u001b[0m\u001b[0m\n\u001b[0m",
      "\u001b[0;32m~/workspace/git_repos/PyTeN/lib/mpslib/SimContainer.py\u001b[0m in \u001b[0;36mrunOneSite\u001b[0;34m(self, Nsweeps, Econv, ncv, cp, verbose, Ndiag, landelta, landeltaEta)\u001b[0m\n\u001b[1;32m    371\u001b[0m             \u001b[0;32mfor\u001b[0m \u001b[0mn\u001b[0m \u001b[0;32min\u001b[0m \u001b[0mrange\u001b[0m\u001b[0;34m(\u001b[0m\u001b[0mlen\u001b[0m\u001b[0;34m(\u001b[0m\u001b[0mself\u001b[0m\u001b[0;34m.\u001b[0m\u001b[0mmps\u001b[0m\u001b[0;34m)\u001b[0m\u001b[0;34m-\u001b[0m\u001b[0;36m1\u001b[0m\u001b[0;34m)\u001b[0m\u001b[0;34m:\u001b[0m\u001b[0;34m\u001b[0m\u001b[0;34m\u001b[0m\u001b[0m\n\u001b[1;32m    372\u001b[0m                 \u001b[0mself\u001b[0m\u001b[0;34m.\u001b[0m\u001b[0mposition\u001b[0m\u001b[0;34m(\u001b[0m\u001b[0mn\u001b[0m\u001b[0;34m)\u001b[0m\u001b[0;34m\u001b[0m\u001b[0;34m\u001b[0m\u001b[0m\n\u001b[0;32m--> 373\u001b[0;31m                 \u001b[0me\u001b[0m\u001b[0;34m=\u001b[0m\u001b[0mself\u001b[0m\u001b[0;34m.\u001b[0m\u001b[0m_optimize_1s_local\u001b[0m\u001b[0;34m(\u001b[0m\u001b[0mncv\u001b[0m\u001b[0;34m=\u001b[0m\u001b[0mncv\u001b[0m\u001b[0;34m,\u001b[0m\u001b[0mNdiag\u001b[0m\u001b[0;34m=\u001b[0m\u001b[0mNdiag\u001b[0m\u001b[0;34m,\u001b[0m\u001b[0mlandelta\u001b[0m\u001b[0;34m=\u001b[0m\u001b[0mlandelta\u001b[0m\u001b[0;34m,\u001b[0m\u001b[0mlandeltaEta\u001b[0m\u001b[0;34m=\u001b[0m\u001b[0mlandeltaEta\u001b[0m\u001b[0;34m,\u001b[0m\u001b[0mverbose\u001b[0m\u001b[0;34m=\u001b[0m\u001b[0mverbose\u001b[0m\u001b[0;34m)\u001b[0m\u001b[0;34m\u001b[0m\u001b[0;34m\u001b[0m\u001b[0m\n\u001b[0m\u001b[1;32m    374\u001b[0m             \u001b[0;32mfor\u001b[0m \u001b[0mn\u001b[0m \u001b[0;32min\u001b[0m \u001b[0mrange\u001b[0m\u001b[0;34m(\u001b[0m\u001b[0mlen\u001b[0m\u001b[0;34m(\u001b[0m\u001b[0mself\u001b[0m\u001b[0;34m.\u001b[0m\u001b[0mmps\u001b[0m\u001b[0;34m)\u001b[0m\u001b[0;34m-\u001b[0m\u001b[0;36m1\u001b[0m\u001b[0;34m,\u001b[0m\u001b[0;36m0\u001b[0m\u001b[0;34m,\u001b[0m\u001b[0;34m-\u001b[0m\u001b[0;36m1\u001b[0m\u001b[0;34m)\u001b[0m\u001b[0;34m:\u001b[0m\u001b[0;34m\u001b[0m\u001b[0;34m\u001b[0m\u001b[0m\n\u001b[1;32m    375\u001b[0m                 \u001b[0mself\u001b[0m\u001b[0;34m.\u001b[0m\u001b[0mposition\u001b[0m\u001b[0;34m(\u001b[0m\u001b[0mn\u001b[0m\u001b[0;34m)\u001b[0m\u001b[0;34m\u001b[0m\u001b[0;34m\u001b[0m\u001b[0m\n",
      "\u001b[0;32m~/workspace/git_repos/PyTeN/lib/mpslib/SimContainer.py\u001b[0m in \u001b[0;36m_optimize_1s_local\u001b[0;34m(self, ncv, Ndiag, landelta, landeltaEta, verbose)\u001b[0m\n\u001b[1;32m    325\u001b[0m         \u001b[0mlan\u001b[0m\u001b[0;34m=\u001b[0m\u001b[0mLZ\u001b[0m\u001b[0;34m.\u001b[0m\u001b[0mLanczosEngine\u001b[0m\u001b[0;34m(\u001b[0m\u001b[0mmv\u001b[0m\u001b[0;34m,\u001b[0m\u001b[0mNdiag\u001b[0m\u001b[0;34m=\u001b[0m\u001b[0mNdiag\u001b[0m\u001b[0;34m,\u001b[0m\u001b[0mncv\u001b[0m\u001b[0;34m=\u001b[0m\u001b[0mncv\u001b[0m\u001b[0;34m,\u001b[0m\u001b[0mnumeig\u001b[0m\u001b[0;34m=\u001b[0m\u001b[0;36m1\u001b[0m\u001b[0;34m,\u001b[0m\u001b[0mdelta\u001b[0m\u001b[0;34m=\u001b[0m\u001b[0mlandelta\u001b[0m\u001b[0;34m,\u001b[0m\u001b[0mdeltaEta\u001b[0m\u001b[0;34m=\u001b[0m\u001b[0mlandeltaEta\u001b[0m\u001b[0;34m)\u001b[0m\u001b[0;34m\u001b[0m\u001b[0;34m\u001b[0m\u001b[0m\n\u001b[1;32m    326\u001b[0m \u001b[0;34m\u001b[0m\u001b[0m\n\u001b[0;32m--> 327\u001b[0;31m         \u001b[0me\u001b[0m\u001b[0;34m,\u001b[0m\u001b[0mopt\u001b[0m\u001b[0;34m,\u001b[0m\u001b[0mconv\u001b[0m\u001b[0;34m=\u001b[0m\u001b[0mlan\u001b[0m\u001b[0;34m.\u001b[0m\u001b[0msimulate\u001b[0m\u001b[0;34m(\u001b[0m\u001b[0minitial\u001b[0m\u001b[0;34m)\u001b[0m\u001b[0;34m\u001b[0m\u001b[0;34m\u001b[0m\u001b[0m\n\u001b[0m\u001b[1;32m    328\u001b[0m         \u001b[0mDnew\u001b[0m\u001b[0;34m=\u001b[0m\u001b[0mopt\u001b[0m\u001b[0;34m[\u001b[0m\u001b[0;36m0\u001b[0m\u001b[0;34m]\u001b[0m\u001b[0;34m.\u001b[0m\u001b[0mshape\u001b[0m\u001b[0;34m[\u001b[0m\u001b[0;36m1\u001b[0m\u001b[0;34m]\u001b[0m\u001b[0;34m\u001b[0m\u001b[0;34m\u001b[0m\u001b[0m\n\u001b[1;32m    329\u001b[0m         \u001b[0;32mif\u001b[0m \u001b[0mverbose\u001b[0m\u001b[0;34m>\u001b[0m\u001b[0;36m0\u001b[0m\u001b[0;34m:\u001b[0m\u001b[0;34m\u001b[0m\u001b[0;34m\u001b[0m\u001b[0m\n",
      "\u001b[0;32m~/workspace/git_repos/PyTeN/lib/Lanczos/LanczosEngine.py\u001b[0m in \u001b[0;36msimulate\u001b[0;34m(self, initialstate, reortho, verbose)\u001b[0m\n\u001b[1;32m     57\u001b[0m                     \u001b[0mxn\u001b[0m\u001b[0;34m-=\u001b[0m\u001b[0mncon\u001b[0m\u001b[0;34m.\u001b[0m\u001b[0mncon\u001b[0m\u001b[0;34m(\u001b[0m\u001b[0;34m[\u001b[0m\u001b[0mv\u001b[0m\u001b[0;34m.\u001b[0m\u001b[0mconj\u001b[0m\u001b[0;34m(\u001b[0m\u001b[0;34m)\u001b[0m\u001b[0;34m,\u001b[0m\u001b[0mxn\u001b[0m\u001b[0;34m]\u001b[0m\u001b[0;34m,\u001b[0m\u001b[0;34m[\u001b[0m\u001b[0mrange\u001b[0m\u001b[0;34m(\u001b[0m\u001b[0mlen\u001b[0m\u001b[0;34m(\u001b[0m\u001b[0mv\u001b[0m\u001b[0;34m.\u001b[0m\u001b[0mshape\u001b[0m\u001b[0;34m)\u001b[0m\u001b[0;34m)\u001b[0m\u001b[0;34m,\u001b[0m\u001b[0mrange\u001b[0m\u001b[0;34m(\u001b[0m\u001b[0mlen\u001b[0m\u001b[0;34m(\u001b[0m\u001b[0mxn\u001b[0m\u001b[0;34m.\u001b[0m\u001b[0mshape\u001b[0m\u001b[0;34m)\u001b[0m\u001b[0;34m)\u001b[0m\u001b[0;34m]\u001b[0m\u001b[0;34m)\u001b[0m\u001b[0;34m*\u001b[0m\u001b[0mv\u001b[0m\u001b[0;34m\u001b[0m\u001b[0;34m\u001b[0m\u001b[0m\n\u001b[1;32m     58\u001b[0m             \u001b[0mself\u001b[0m\u001b[0;34m.\u001b[0m\u001b[0mvecs\u001b[0m\u001b[0;34m.\u001b[0m\u001b[0mappend\u001b[0m\u001b[0;34m(\u001b[0m\u001b[0mxn\u001b[0m\u001b[0;34m)\u001b[0m\u001b[0;34m\u001b[0m\u001b[0;34m\u001b[0m\u001b[0m\n\u001b[0;32m---> 59\u001b[0;31m             \u001b[0mHxn\u001b[0m\u001b[0;34m=\u001b[0m\u001b[0mself\u001b[0m\u001b[0;34m.\u001b[0m\u001b[0mmatvec\u001b[0m\u001b[0;34m(\u001b[0m\u001b[0mxn\u001b[0m\u001b[0;34m)\u001b[0m\u001b[0;34m\u001b[0m\u001b[0;34m\u001b[0m\u001b[0m\n\u001b[0m\u001b[1;32m     60\u001b[0m             \u001b[0mepsn\u001b[0m\u001b[0;34m.\u001b[0m\u001b[0mappend\u001b[0m\u001b[0;34m(\u001b[0m\u001b[0mncon\u001b[0m\u001b[0;34m.\u001b[0m\u001b[0mncon\u001b[0m\u001b[0;34m(\u001b[0m\u001b[0;34m[\u001b[0m\u001b[0mxn\u001b[0m\u001b[0;34m.\u001b[0m\u001b[0mconj\u001b[0m\u001b[0;34m(\u001b[0m\u001b[0;34m)\u001b[0m\u001b[0;34m,\u001b[0m\u001b[0mHxn\u001b[0m\u001b[0;34m]\u001b[0m\u001b[0;34m,\u001b[0m\u001b[0;34m[\u001b[0m\u001b[0mrange\u001b[0m\u001b[0;34m(\u001b[0m\u001b[0mlen\u001b[0m\u001b[0;34m(\u001b[0m\u001b[0mxn\u001b[0m\u001b[0;34m.\u001b[0m\u001b[0mshape\u001b[0m\u001b[0;34m)\u001b[0m\u001b[0;34m)\u001b[0m\u001b[0;34m,\u001b[0m\u001b[0mrange\u001b[0m\u001b[0;34m(\u001b[0m\u001b[0mlen\u001b[0m\u001b[0;34m(\u001b[0m\u001b[0mHxn\u001b[0m\u001b[0;34m.\u001b[0m\u001b[0mshape\u001b[0m\u001b[0;34m)\u001b[0m\u001b[0;34m)\u001b[0m\u001b[0;34m]\u001b[0m\u001b[0;34m)\u001b[0m\u001b[0;34m)\u001b[0m\u001b[0;34m\u001b[0m\u001b[0;34m\u001b[0m\u001b[0m\n\u001b[1;32m     61\u001b[0m             \u001b[0;32mif\u001b[0m \u001b[0;34m(\u001b[0m\u001b[0;34m(\u001b[0m\u001b[0mit\u001b[0m\u001b[0;34m%\u001b[0m\u001b[0mself\u001b[0m\u001b[0;34m.\u001b[0m\u001b[0mNdiag\u001b[0m\u001b[0;34m)\u001b[0m\u001b[0;34m==\u001b[0m\u001b[0;36m0\u001b[0m\u001b[0;34m)\u001b[0m\u001b[0;34m&\u001b[0m\u001b[0;34m(\u001b[0m\u001b[0mlen\u001b[0m\u001b[0;34m(\u001b[0m\u001b[0mepsn\u001b[0m\u001b[0;34m)\u001b[0m\u001b[0;34m>=\u001b[0m\u001b[0mself\u001b[0m\u001b[0;34m.\u001b[0m\u001b[0mnumeig\u001b[0m\u001b[0;34m)\u001b[0m\u001b[0;34m:\u001b[0m\u001b[0;34m\u001b[0m\u001b[0;34m\u001b[0m\u001b[0m\n",
      "\u001b[0;32m~/workspace/git_repos/PyTeN/lib/mpslib/SimContainer.py\u001b[0m in \u001b[0;36mHAproduct\u001b[0;34m(L, mpo, R, mps)\u001b[0m\n\u001b[1;32m    321\u001b[0m         \u001b[0minitial\u001b[0m\u001b[0;34m=\u001b[0m\u001b[0mncon\u001b[0m\u001b[0;34m.\u001b[0m\u001b[0mncon\u001b[0m\u001b[0;34m(\u001b[0m\u001b[0;34m[\u001b[0m\u001b[0mself\u001b[0m\u001b[0;34m.\u001b[0m\u001b[0mmps\u001b[0m\u001b[0;34m.\u001b[0m\u001b[0mmat\u001b[0m\u001b[0;34m,\u001b[0m\u001b[0mself\u001b[0m\u001b[0;34m.\u001b[0m\u001b[0mmps\u001b[0m\u001b[0;34m[\u001b[0m\u001b[0mself\u001b[0m\u001b[0;34m.\u001b[0m\u001b[0mmps\u001b[0m\u001b[0;34m.\u001b[0m\u001b[0mpos\u001b[0m\u001b[0;34m]\u001b[0m\u001b[0;34m]\u001b[0m\u001b[0;34m,\u001b[0m\u001b[0;34m[\u001b[0m\u001b[0;34m[\u001b[0m\u001b[0;34m-\u001b[0m\u001b[0;36m1\u001b[0m\u001b[0;34m,\u001b[0m\u001b[0;36m1\u001b[0m\u001b[0;34m]\u001b[0m\u001b[0;34m,\u001b[0m\u001b[0;34m[\u001b[0m\u001b[0;36m1\u001b[0m\u001b[0;34m,\u001b[0m\u001b[0;34m-\u001b[0m\u001b[0;36m2\u001b[0m\u001b[0;34m,\u001b[0m\u001b[0;34m-\u001b[0m\u001b[0;36m3\u001b[0m\u001b[0;34m]\u001b[0m\u001b[0;34m]\u001b[0m\u001b[0;34m)\u001b[0m\u001b[0;34m\u001b[0m\u001b[0;34m\u001b[0m\u001b[0m\n\u001b[1;32m    322\u001b[0m         \u001b[0;32mdef\u001b[0m \u001b[0mHAproduct\u001b[0m\u001b[0;34m(\u001b[0m\u001b[0mL\u001b[0m\u001b[0;34m,\u001b[0m\u001b[0mmpo\u001b[0m\u001b[0;34m,\u001b[0m\u001b[0mR\u001b[0m\u001b[0;34m,\u001b[0m\u001b[0mmps\u001b[0m\u001b[0;34m)\u001b[0m\u001b[0;34m:\u001b[0m\u001b[0;34m\u001b[0m\u001b[0;34m\u001b[0m\u001b[0m\n\u001b[0;32m--> 323\u001b[0;31m             \u001b[0;32mreturn\u001b[0m \u001b[0mncon\u001b[0m\u001b[0;34m.\u001b[0m\u001b[0mncon\u001b[0m\u001b[0;34m(\u001b[0m\u001b[0;34m[\u001b[0m\u001b[0mL\u001b[0m\u001b[0;34m,\u001b[0m\u001b[0mmps\u001b[0m\u001b[0;34m,\u001b[0m\u001b[0mmpo\u001b[0m\u001b[0;34m,\u001b[0m\u001b[0mR\u001b[0m\u001b[0;34m]\u001b[0m\u001b[0;34m,\u001b[0m\u001b[0;34m[\u001b[0m\u001b[0;34m[\u001b[0m\u001b[0;36m1\u001b[0m\u001b[0;34m,\u001b[0m\u001b[0;34m-\u001b[0m\u001b[0;36m1\u001b[0m\u001b[0;34m,\u001b[0m\u001b[0;36m2\u001b[0m\u001b[0;34m]\u001b[0m\u001b[0;34m,\u001b[0m\u001b[0;34m[\u001b[0m\u001b[0;36m1\u001b[0m\u001b[0;34m,\u001b[0m\u001b[0;36m4\u001b[0m\u001b[0;34m,\u001b[0m\u001b[0;36m3\u001b[0m\u001b[0;34m]\u001b[0m\u001b[0;34m,\u001b[0m\u001b[0;34m[\u001b[0m\u001b[0;36m2\u001b[0m\u001b[0;34m,\u001b[0m\u001b[0;36m5\u001b[0m\u001b[0;34m,\u001b[0m\u001b[0;34m-\u001b[0m\u001b[0;36m3\u001b[0m\u001b[0;34m,\u001b[0m\u001b[0;36m3\u001b[0m\u001b[0;34m]\u001b[0m\u001b[0;34m,\u001b[0m\u001b[0;34m[\u001b[0m\u001b[0;36m4\u001b[0m\u001b[0;34m,\u001b[0m\u001b[0;34m-\u001b[0m\u001b[0;36m2\u001b[0m\u001b[0;34m,\u001b[0m\u001b[0;36m5\u001b[0m\u001b[0;34m]\u001b[0m\u001b[0;34m]\u001b[0m\u001b[0;34m)\u001b[0m\u001b[0;34m\u001b[0m\u001b[0;34m\u001b[0m\u001b[0m\n\u001b[0m\u001b[1;32m    324\u001b[0m         \u001b[0mmv\u001b[0m\u001b[0;34m=\u001b[0m\u001b[0mfct\u001b[0m\u001b[0;34m.\u001b[0m\u001b[0mpartial\u001b[0m\u001b[0;34m(\u001b[0m\u001b[0mHAproduct\u001b[0m\u001b[0;34m,\u001b[0m\u001b[0;34m*\u001b[0m\u001b[0;34m[\u001b[0m\u001b[0mself\u001b[0m\u001b[0;34m.\u001b[0m\u001b[0mleftEnv\u001b[0m\u001b[0;34m(\u001b[0m\u001b[0mself\u001b[0m\u001b[0;34m.\u001b[0m\u001b[0mmps\u001b[0m\u001b[0;34m.\u001b[0m\u001b[0mpos\u001b[0m\u001b[0;34m)\u001b[0m\u001b[0;34m,\u001b[0m\u001b[0mself\u001b[0m\u001b[0;34m.\u001b[0m\u001b[0mmpo\u001b[0m\u001b[0;34m[\u001b[0m\u001b[0mself\u001b[0m\u001b[0;34m.\u001b[0m\u001b[0mmps\u001b[0m\u001b[0;34m.\u001b[0m\u001b[0mpos\u001b[0m\u001b[0;34m]\u001b[0m\u001b[0;34m,\u001b[0m\u001b[0mself\u001b[0m\u001b[0;34m.\u001b[0m\u001b[0mrightEnv\u001b[0m\u001b[0;34m(\u001b[0m\u001b[0mself\u001b[0m\u001b[0;34m.\u001b[0m\u001b[0mmps\u001b[0m\u001b[0;34m.\u001b[0m\u001b[0mpos\u001b[0m\u001b[0;34m)\u001b[0m\u001b[0;34m]\u001b[0m\u001b[0;34m)\u001b[0m\u001b[0;34m\u001b[0m\u001b[0;34m\u001b[0m\u001b[0m\n\u001b[1;32m    325\u001b[0m         \u001b[0mlan\u001b[0m\u001b[0;34m=\u001b[0m\u001b[0mLZ\u001b[0m\u001b[0;34m.\u001b[0m\u001b[0mLanczosEngine\u001b[0m\u001b[0;34m(\u001b[0m\u001b[0mmv\u001b[0m\u001b[0;34m,\u001b[0m\u001b[0mNdiag\u001b[0m\u001b[0;34m=\u001b[0m\u001b[0mNdiag\u001b[0m\u001b[0;34m,\u001b[0m\u001b[0mncv\u001b[0m\u001b[0;34m=\u001b[0m\u001b[0mncv\u001b[0m\u001b[0;34m,\u001b[0m\u001b[0mnumeig\u001b[0m\u001b[0;34m=\u001b[0m\u001b[0;36m1\u001b[0m\u001b[0;34m,\u001b[0m\u001b[0mdelta\u001b[0m\u001b[0;34m=\u001b[0m\u001b[0mlandelta\u001b[0m\u001b[0;34m,\u001b[0m\u001b[0mdeltaEta\u001b[0m\u001b[0;34m=\u001b[0m\u001b[0mlandeltaEta\u001b[0m\u001b[0;34m)\u001b[0m\u001b[0;34m\u001b[0m\u001b[0;34m\u001b[0m\u001b[0m\n",
      "\u001b[0;32m~/workspace/git_repos/PyTeN/lib/ncon/ncon.py\u001b[0m in \u001b[0;36mncon\u001b[0;34m(AA, v, order, forder, check_indices)\u001b[0m\n\u001b[1;32m     69\u001b[0m         \u001b[0;32melse\u001b[0m\u001b[0;34m:\u001b[0m\u001b[0;34m\u001b[0m\u001b[0;34m\u001b[0m\u001b[0m\n\u001b[1;32m     70\u001b[0m             \u001b[0;31m# Contraction of 2 tensors\u001b[0m\u001b[0;34m\u001b[0m\u001b[0;34m\u001b[0m\u001b[0;34m\u001b[0m\u001b[0m\n\u001b[0;32m---> 71\u001b[0;31m             \u001b[0mnew_A\u001b[0m \u001b[0;34m=\u001b[0m \u001b[0mcon\u001b[0m\u001b[0;34m(\u001b[0m\u001b[0mAA\u001b[0m\u001b[0;34m[\u001b[0m\u001b[0mtcon\u001b[0m\u001b[0;34m[\u001b[0m\u001b[0;36m0\u001b[0m\u001b[0;34m]\u001b[0m\u001b[0;34m]\u001b[0m\u001b[0;34m,\u001b[0m \u001b[0mAA\u001b[0m\u001b[0;34m[\u001b[0m\u001b[0mtcon\u001b[0m\u001b[0;34m[\u001b[0m\u001b[0;36m1\u001b[0m\u001b[0;34m]\u001b[0m\u001b[0;34m]\u001b[0m\u001b[0;34m,\u001b[0m \u001b[0;34m(\u001b[0m\u001b[0mpos1\u001b[0m\u001b[0;34m,\u001b[0m \u001b[0mpos2\u001b[0m\u001b[0;34m)\u001b[0m\u001b[0;34m)\u001b[0m\u001b[0;34m\u001b[0m\u001b[0;34m\u001b[0m\u001b[0m\n\u001b[0m\u001b[1;32m     72\u001b[0m         \u001b[0mAA\u001b[0m\u001b[0;34m.\u001b[0m\u001b[0mappend\u001b[0m\u001b[0;34m(\u001b[0m\u001b[0mnew_A\u001b[0m\u001b[0;34m)\u001b[0m\u001b[0;34m\u001b[0m\u001b[0;34m\u001b[0m\u001b[0m\n\u001b[1;32m     73\u001b[0m         \u001b[0mv\u001b[0m\u001b[0;34m.\u001b[0m\u001b[0mappend\u001b[0m\u001b[0;34m(\u001b[0m\u001b[0mfind_newv\u001b[0m\u001b[0;34m(\u001b[0m\u001b[0mv\u001b[0m\u001b[0;34m,\u001b[0m \u001b[0mtcon\u001b[0m\u001b[0;34m,\u001b[0m \u001b[0micon\u001b[0m\u001b[0;34m)\u001b[0m\u001b[0;34m)\u001b[0m  \u001b[0;31m# Add the v for the new tensor\u001b[0m\u001b[0;34m\u001b[0m\u001b[0;34m\u001b[0m\u001b[0m\n",
      "\u001b[0;32m~/workspace/git_repos/PyTeN/lib/ncon/ncon.py\u001b[0m in \u001b[0;36mcon\u001b[0;34m(A, B, inds)\u001b[0m\n\u001b[1;32m    315\u001b[0m \u001b[0;32mdef\u001b[0m \u001b[0mcon\u001b[0m\u001b[0;34m(\u001b[0m\u001b[0mA\u001b[0m\u001b[0;34m,\u001b[0m \u001b[0mB\u001b[0m\u001b[0;34m,\u001b[0m \u001b[0minds\u001b[0m\u001b[0;34m)\u001b[0m\u001b[0;34m:\u001b[0m\u001b[0;34m\u001b[0m\u001b[0;34m\u001b[0m\u001b[0m\n\u001b[1;32m    316\u001b[0m     \u001b[0;32mif\u001b[0m \u001b[0misinstance\u001b[0m\u001b[0;34m(\u001b[0m\u001b[0mA\u001b[0m\u001b[0;34m,\u001b[0m\u001b[0mnp\u001b[0m\u001b[0;34m.\u001b[0m\u001b[0mndarray\u001b[0m\u001b[0;34m)\u001b[0m \u001b[0;32mand\u001b[0m \u001b[0misinstance\u001b[0m\u001b[0;34m(\u001b[0m\u001b[0mB\u001b[0m\u001b[0;34m,\u001b[0m\u001b[0mnp\u001b[0m\u001b[0;34m.\u001b[0m\u001b[0mndarray\u001b[0m\u001b[0;34m)\u001b[0m\u001b[0;34m:\u001b[0m\u001b[0;34m\u001b[0m\u001b[0;34m\u001b[0m\u001b[0m\n\u001b[0;32m--> 317\u001b[0;31m         \u001b[0;32mreturn\u001b[0m \u001b[0mnp\u001b[0m\u001b[0;34m.\u001b[0m\u001b[0mtensordot\u001b[0m\u001b[0;34m(\u001b[0m\u001b[0mA\u001b[0m\u001b[0;34m,\u001b[0m \u001b[0mB\u001b[0m\u001b[0;34m,\u001b[0m \u001b[0minds\u001b[0m\u001b[0;34m)\u001b[0m\u001b[0;34m.\u001b[0m\u001b[0mview\u001b[0m\u001b[0;34m(\u001b[0m\u001b[0mtype\u001b[0m\u001b[0;34m(\u001b[0m\u001b[0mA\u001b[0m\u001b[0;34m)\u001b[0m\u001b[0;34m)\u001b[0m\u001b[0;34m\u001b[0m\u001b[0;34m\u001b[0m\u001b[0m\n\u001b[0m\u001b[1;32m    318\u001b[0m     \u001b[0;32melse\u001b[0m\u001b[0;34m:\u001b[0m\u001b[0;34m\u001b[0m\u001b[0;34m\u001b[0m\u001b[0m\n\u001b[1;32m    319\u001b[0m         \u001b[0;32mreturn\u001b[0m \u001b[0mA\u001b[0m\u001b[0;34m.\u001b[0m\u001b[0mtensordot\u001b[0m\u001b[0;34m(\u001b[0m\u001b[0mB\u001b[0m\u001b[0;34m,\u001b[0m \u001b[0minds\u001b[0m\u001b[0;34m)\u001b[0m\u001b[0;34m\u001b[0m\u001b[0;34m\u001b[0m\u001b[0m\n",
      "\u001b[0;32m~/anaconda3/lib/python3.7/site-packages/numpy/core/numeric.py\u001b[0m in \u001b[0;36mtensordot\u001b[0;34m(a, b, axes)\u001b[0m\n\u001b[1;32m   1312\u001b[0m     \u001b[0mat\u001b[0m \u001b[0;34m=\u001b[0m \u001b[0ma\u001b[0m\u001b[0;34m.\u001b[0m\u001b[0mtranspose\u001b[0m\u001b[0;34m(\u001b[0m\u001b[0mnewaxes_a\u001b[0m\u001b[0;34m)\u001b[0m\u001b[0;34m.\u001b[0m\u001b[0mreshape\u001b[0m\u001b[0;34m(\u001b[0m\u001b[0mnewshape_a\u001b[0m\u001b[0;34m)\u001b[0m\u001b[0;34m\u001b[0m\u001b[0;34m\u001b[0m\u001b[0m\n\u001b[1;32m   1313\u001b[0m     \u001b[0mbt\u001b[0m \u001b[0;34m=\u001b[0m \u001b[0mb\u001b[0m\u001b[0;34m.\u001b[0m\u001b[0mtranspose\u001b[0m\u001b[0;34m(\u001b[0m\u001b[0mnewaxes_b\u001b[0m\u001b[0;34m)\u001b[0m\u001b[0;34m.\u001b[0m\u001b[0mreshape\u001b[0m\u001b[0;34m(\u001b[0m\u001b[0mnewshape_b\u001b[0m\u001b[0;34m)\u001b[0m\u001b[0;34m\u001b[0m\u001b[0;34m\u001b[0m\u001b[0m\n\u001b[0;32m-> 1314\u001b[0;31m     \u001b[0mres\u001b[0m \u001b[0;34m=\u001b[0m \u001b[0mdot\u001b[0m\u001b[0;34m(\u001b[0m\u001b[0mat\u001b[0m\u001b[0;34m,\u001b[0m \u001b[0mbt\u001b[0m\u001b[0;34m)\u001b[0m\u001b[0;34m\u001b[0m\u001b[0;34m\u001b[0m\u001b[0m\n\u001b[0m\u001b[1;32m   1315\u001b[0m     \u001b[0;32mreturn\u001b[0m \u001b[0mres\u001b[0m\u001b[0;34m.\u001b[0m\u001b[0mreshape\u001b[0m\u001b[0;34m(\u001b[0m\u001b[0molda\u001b[0m \u001b[0;34m+\u001b[0m \u001b[0moldb\u001b[0m\u001b[0;34m)\u001b[0m\u001b[0;34m\u001b[0m\u001b[0;34m\u001b[0m\u001b[0m\n\u001b[1;32m   1316\u001b[0m \u001b[0;34m\u001b[0m\u001b[0m\n",
      "\u001b[0;31mKeyboardInterrupt\u001b[0m: "
     ]
    }
   ],
   "source": [
    "dmrg.runOneSite(verbose=1,Econv=1E-10,Nsweeps=40,ncv=100)"
   ]
  },
  {
   "cell_type": "code",
   "execution_count": 9,
   "metadata": {},
   "outputs": [
    {
     "name": "stdout",
     "output_type": "stream",
     "text": [
      "SS-DMRG it=2/40, site=31/100: optimized E=-44.1277398664888096+0.0000000000000000 at D=100"
     ]
    },
    {
     "ename": "KeyboardInterrupt",
     "evalue": "",
     "output_type": "error",
     "traceback": [
      "\u001b[0;31m---------------------------------------------------------------------------\u001b[0m",
      "\u001b[0;31mKeyboardInterrupt\u001b[0m                         Traceback (most recent call last)",
      "\u001b[0;32m<ipython-input-9-841853343263>\u001b[0m in \u001b[0;36m<module>\u001b[0;34m()\u001b[0m\n\u001b[0;32m----> 1\u001b[0;31m \u001b[0mdmrg\u001b[0m\u001b[0;34m.\u001b[0m\u001b[0mrunOneSite\u001b[0m\u001b[0;34m(\u001b[0m\u001b[0mverbose\u001b[0m\u001b[0;34m=\u001b[0m\u001b[0;36m1\u001b[0m\u001b[0;34m,\u001b[0m\u001b[0mEconv\u001b[0m\u001b[0;34m=\u001b[0m\u001b[0;36m1E-10\u001b[0m\u001b[0;34m,\u001b[0m\u001b[0mNsweeps\u001b[0m\u001b[0;34m=\u001b[0m\u001b[0;36m40\u001b[0m\u001b[0;34m,\u001b[0m\u001b[0mncv\u001b[0m\u001b[0;34m=\u001b[0m\u001b[0;36m100\u001b[0m\u001b[0;34m)\u001b[0m\u001b[0;34m\u001b[0m\u001b[0;34m\u001b[0m\u001b[0m\n\u001b[0m",
      "\u001b[0;32m~/workspace/git_repos/PyTeN/lib/mpslib/SimContainer.py\u001b[0m in \u001b[0;36mrunOneSite\u001b[0;34m(self, Nsweeps, Econv, ncv, cp, verbose, Ndiag, landelta, landeltaEta)\u001b[0m\n\u001b[1;32m    371\u001b[0m             \u001b[0;32mfor\u001b[0m \u001b[0mn\u001b[0m \u001b[0;32min\u001b[0m \u001b[0mrange\u001b[0m\u001b[0;34m(\u001b[0m\u001b[0mlen\u001b[0m\u001b[0;34m(\u001b[0m\u001b[0mself\u001b[0m\u001b[0;34m.\u001b[0m\u001b[0mmps\u001b[0m\u001b[0;34m)\u001b[0m\u001b[0;34m-\u001b[0m\u001b[0;36m1\u001b[0m\u001b[0;34m)\u001b[0m\u001b[0;34m:\u001b[0m\u001b[0;34m\u001b[0m\u001b[0;34m\u001b[0m\u001b[0m\n\u001b[1;32m    372\u001b[0m                 \u001b[0mself\u001b[0m\u001b[0;34m.\u001b[0m\u001b[0mposition\u001b[0m\u001b[0;34m(\u001b[0m\u001b[0mn\u001b[0m\u001b[0;34m)\u001b[0m\u001b[0;34m\u001b[0m\u001b[0;34m\u001b[0m\u001b[0m\n\u001b[0;32m--> 373\u001b[0;31m                 \u001b[0me\u001b[0m\u001b[0;34m=\u001b[0m\u001b[0mself\u001b[0m\u001b[0;34m.\u001b[0m\u001b[0m_optimize_1s_local\u001b[0m\u001b[0;34m(\u001b[0m\u001b[0mncv\u001b[0m\u001b[0;34m=\u001b[0m\u001b[0mncv\u001b[0m\u001b[0;34m,\u001b[0m\u001b[0mNdiag\u001b[0m\u001b[0;34m=\u001b[0m\u001b[0mNdiag\u001b[0m\u001b[0;34m,\u001b[0m\u001b[0mlandelta\u001b[0m\u001b[0;34m=\u001b[0m\u001b[0mlandelta\u001b[0m\u001b[0;34m,\u001b[0m\u001b[0mlandeltaEta\u001b[0m\u001b[0;34m=\u001b[0m\u001b[0mlandeltaEta\u001b[0m\u001b[0;34m,\u001b[0m\u001b[0mverbose\u001b[0m\u001b[0;34m=\u001b[0m\u001b[0mverbose\u001b[0m\u001b[0;34m)\u001b[0m\u001b[0;34m\u001b[0m\u001b[0;34m\u001b[0m\u001b[0m\n\u001b[0m\u001b[1;32m    374\u001b[0m             \u001b[0;32mfor\u001b[0m \u001b[0mn\u001b[0m \u001b[0;32min\u001b[0m \u001b[0mrange\u001b[0m\u001b[0;34m(\u001b[0m\u001b[0mlen\u001b[0m\u001b[0;34m(\u001b[0m\u001b[0mself\u001b[0m\u001b[0;34m.\u001b[0m\u001b[0mmps\u001b[0m\u001b[0;34m)\u001b[0m\u001b[0;34m-\u001b[0m\u001b[0;36m1\u001b[0m\u001b[0;34m,\u001b[0m\u001b[0;36m0\u001b[0m\u001b[0;34m,\u001b[0m\u001b[0;34m-\u001b[0m\u001b[0;36m1\u001b[0m\u001b[0;34m)\u001b[0m\u001b[0;34m:\u001b[0m\u001b[0;34m\u001b[0m\u001b[0;34m\u001b[0m\u001b[0m\n\u001b[1;32m    375\u001b[0m                 \u001b[0mself\u001b[0m\u001b[0;34m.\u001b[0m\u001b[0mposition\u001b[0m\u001b[0;34m(\u001b[0m\u001b[0mn\u001b[0m\u001b[0;34m)\u001b[0m\u001b[0;34m\u001b[0m\u001b[0;34m\u001b[0m\u001b[0m\n",
      "\u001b[0;32m~/workspace/git_repos/PyTeN/lib/mpslib/SimContainer.py\u001b[0m in \u001b[0;36m_optimize_1s_local\u001b[0;34m(self, ncv, Ndiag, landelta, landeltaEta, verbose)\u001b[0m\n\u001b[1;32m    325\u001b[0m         \u001b[0mlan\u001b[0m\u001b[0;34m=\u001b[0m\u001b[0mLZ\u001b[0m\u001b[0;34m.\u001b[0m\u001b[0mLanczosEngine\u001b[0m\u001b[0;34m(\u001b[0m\u001b[0mmv\u001b[0m\u001b[0;34m,\u001b[0m\u001b[0mNdiag\u001b[0m\u001b[0;34m=\u001b[0m\u001b[0mNdiag\u001b[0m\u001b[0;34m,\u001b[0m\u001b[0mncv\u001b[0m\u001b[0;34m=\u001b[0m\u001b[0mncv\u001b[0m\u001b[0;34m,\u001b[0m\u001b[0mnumeig\u001b[0m\u001b[0;34m=\u001b[0m\u001b[0;36m1\u001b[0m\u001b[0;34m,\u001b[0m\u001b[0mdelta\u001b[0m\u001b[0;34m=\u001b[0m\u001b[0mlandelta\u001b[0m\u001b[0;34m,\u001b[0m\u001b[0mdeltaEta\u001b[0m\u001b[0;34m=\u001b[0m\u001b[0mlandeltaEta\u001b[0m\u001b[0;34m)\u001b[0m\u001b[0;34m\u001b[0m\u001b[0;34m\u001b[0m\u001b[0m\n\u001b[1;32m    326\u001b[0m \u001b[0;34m\u001b[0m\u001b[0m\n\u001b[0;32m--> 327\u001b[0;31m         \u001b[0me\u001b[0m\u001b[0;34m,\u001b[0m\u001b[0mopt\u001b[0m\u001b[0;34m,\u001b[0m\u001b[0mconv\u001b[0m\u001b[0;34m=\u001b[0m\u001b[0mlan\u001b[0m\u001b[0;34m.\u001b[0m\u001b[0msimulate\u001b[0m\u001b[0;34m(\u001b[0m\u001b[0minitial\u001b[0m\u001b[0;34m)\u001b[0m\u001b[0;34m\u001b[0m\u001b[0;34m\u001b[0m\u001b[0m\n\u001b[0m\u001b[1;32m    328\u001b[0m         \u001b[0mDnew\u001b[0m\u001b[0;34m=\u001b[0m\u001b[0mopt\u001b[0m\u001b[0;34m[\u001b[0m\u001b[0;36m0\u001b[0m\u001b[0;34m]\u001b[0m\u001b[0;34m.\u001b[0m\u001b[0mshape\u001b[0m\u001b[0;34m[\u001b[0m\u001b[0;36m1\u001b[0m\u001b[0;34m]\u001b[0m\u001b[0;34m\u001b[0m\u001b[0;34m\u001b[0m\u001b[0m\n\u001b[1;32m    329\u001b[0m         \u001b[0;32mif\u001b[0m \u001b[0mverbose\u001b[0m\u001b[0;34m>\u001b[0m\u001b[0;36m0\u001b[0m\u001b[0;34m:\u001b[0m\u001b[0;34m\u001b[0m\u001b[0;34m\u001b[0m\u001b[0m\n",
      "\u001b[0;32m~/workspace/git_repos/PyTeN/lib/Lanczos/LanczosEngine.py\u001b[0m in \u001b[0;36msimulate\u001b[0;34m(self, initialstate, reortho, verbose)\u001b[0m\n\u001b[1;32m     57\u001b[0m                     \u001b[0mxn\u001b[0m\u001b[0;34m-=\u001b[0m\u001b[0mncon\u001b[0m\u001b[0;34m.\u001b[0m\u001b[0mncon\u001b[0m\u001b[0;34m(\u001b[0m\u001b[0;34m[\u001b[0m\u001b[0mv\u001b[0m\u001b[0;34m.\u001b[0m\u001b[0mconj\u001b[0m\u001b[0;34m(\u001b[0m\u001b[0;34m)\u001b[0m\u001b[0;34m,\u001b[0m\u001b[0mxn\u001b[0m\u001b[0;34m]\u001b[0m\u001b[0;34m,\u001b[0m\u001b[0;34m[\u001b[0m\u001b[0mrange\u001b[0m\u001b[0;34m(\u001b[0m\u001b[0mlen\u001b[0m\u001b[0;34m(\u001b[0m\u001b[0mv\u001b[0m\u001b[0;34m.\u001b[0m\u001b[0mshape\u001b[0m\u001b[0;34m)\u001b[0m\u001b[0;34m)\u001b[0m\u001b[0;34m,\u001b[0m\u001b[0mrange\u001b[0m\u001b[0;34m(\u001b[0m\u001b[0mlen\u001b[0m\u001b[0;34m(\u001b[0m\u001b[0mxn\u001b[0m\u001b[0;34m.\u001b[0m\u001b[0mshape\u001b[0m\u001b[0;34m)\u001b[0m\u001b[0;34m)\u001b[0m\u001b[0;34m]\u001b[0m\u001b[0;34m)\u001b[0m\u001b[0;34m*\u001b[0m\u001b[0mv\u001b[0m\u001b[0;34m\u001b[0m\u001b[0;34m\u001b[0m\u001b[0m\n\u001b[1;32m     58\u001b[0m             \u001b[0mself\u001b[0m\u001b[0;34m.\u001b[0m\u001b[0mvecs\u001b[0m\u001b[0;34m.\u001b[0m\u001b[0mappend\u001b[0m\u001b[0;34m(\u001b[0m\u001b[0mxn\u001b[0m\u001b[0;34m)\u001b[0m\u001b[0;34m\u001b[0m\u001b[0;34m\u001b[0m\u001b[0m\n\u001b[0;32m---> 59\u001b[0;31m             \u001b[0mHxn\u001b[0m\u001b[0;34m=\u001b[0m\u001b[0mself\u001b[0m\u001b[0;34m.\u001b[0m\u001b[0mmatvec\u001b[0m\u001b[0;34m(\u001b[0m\u001b[0mxn\u001b[0m\u001b[0;34m)\u001b[0m\u001b[0;34m\u001b[0m\u001b[0;34m\u001b[0m\u001b[0m\n\u001b[0m\u001b[1;32m     60\u001b[0m             \u001b[0mepsn\u001b[0m\u001b[0;34m.\u001b[0m\u001b[0mappend\u001b[0m\u001b[0;34m(\u001b[0m\u001b[0mncon\u001b[0m\u001b[0;34m.\u001b[0m\u001b[0mncon\u001b[0m\u001b[0;34m(\u001b[0m\u001b[0;34m[\u001b[0m\u001b[0mxn\u001b[0m\u001b[0;34m.\u001b[0m\u001b[0mconj\u001b[0m\u001b[0;34m(\u001b[0m\u001b[0;34m)\u001b[0m\u001b[0;34m,\u001b[0m\u001b[0mHxn\u001b[0m\u001b[0;34m]\u001b[0m\u001b[0;34m,\u001b[0m\u001b[0;34m[\u001b[0m\u001b[0mrange\u001b[0m\u001b[0;34m(\u001b[0m\u001b[0mlen\u001b[0m\u001b[0;34m(\u001b[0m\u001b[0mxn\u001b[0m\u001b[0;34m.\u001b[0m\u001b[0mshape\u001b[0m\u001b[0;34m)\u001b[0m\u001b[0;34m)\u001b[0m\u001b[0;34m,\u001b[0m\u001b[0mrange\u001b[0m\u001b[0;34m(\u001b[0m\u001b[0mlen\u001b[0m\u001b[0;34m(\u001b[0m\u001b[0mHxn\u001b[0m\u001b[0;34m.\u001b[0m\u001b[0mshape\u001b[0m\u001b[0;34m)\u001b[0m\u001b[0;34m)\u001b[0m\u001b[0;34m]\u001b[0m\u001b[0;34m)\u001b[0m\u001b[0;34m)\u001b[0m\u001b[0;34m\u001b[0m\u001b[0;34m\u001b[0m\u001b[0m\n\u001b[1;32m     61\u001b[0m             \u001b[0;32mif\u001b[0m \u001b[0;34m(\u001b[0m\u001b[0;34m(\u001b[0m\u001b[0mit\u001b[0m\u001b[0;34m%\u001b[0m\u001b[0mself\u001b[0m\u001b[0;34m.\u001b[0m\u001b[0mNdiag\u001b[0m\u001b[0;34m)\u001b[0m\u001b[0;34m==\u001b[0m\u001b[0;36m0\u001b[0m\u001b[0;34m)\u001b[0m\u001b[0;34m&\u001b[0m\u001b[0;34m(\u001b[0m\u001b[0mlen\u001b[0m\u001b[0;34m(\u001b[0m\u001b[0mepsn\u001b[0m\u001b[0;34m)\u001b[0m\u001b[0;34m>=\u001b[0m\u001b[0mself\u001b[0m\u001b[0;34m.\u001b[0m\u001b[0mnumeig\u001b[0m\u001b[0;34m)\u001b[0m\u001b[0;34m:\u001b[0m\u001b[0;34m\u001b[0m\u001b[0;34m\u001b[0m\u001b[0m\n",
      "\u001b[0;32m~/workspace/git_repos/PyTeN/lib/mpslib/SimContainer.py\u001b[0m in \u001b[0;36mHAproduct\u001b[0;34m(L, mpo, R, mps)\u001b[0m\n\u001b[1;32m    321\u001b[0m         \u001b[0minitial\u001b[0m\u001b[0;34m=\u001b[0m\u001b[0mncon\u001b[0m\u001b[0;34m.\u001b[0m\u001b[0mncon\u001b[0m\u001b[0;34m(\u001b[0m\u001b[0;34m[\u001b[0m\u001b[0mself\u001b[0m\u001b[0;34m.\u001b[0m\u001b[0mmps\u001b[0m\u001b[0;34m.\u001b[0m\u001b[0mmat\u001b[0m\u001b[0;34m,\u001b[0m\u001b[0mself\u001b[0m\u001b[0;34m.\u001b[0m\u001b[0mmps\u001b[0m\u001b[0;34m[\u001b[0m\u001b[0mself\u001b[0m\u001b[0;34m.\u001b[0m\u001b[0mmps\u001b[0m\u001b[0;34m.\u001b[0m\u001b[0mpos\u001b[0m\u001b[0;34m]\u001b[0m\u001b[0;34m]\u001b[0m\u001b[0;34m,\u001b[0m\u001b[0;34m[\u001b[0m\u001b[0;34m[\u001b[0m\u001b[0;34m-\u001b[0m\u001b[0;36m1\u001b[0m\u001b[0;34m,\u001b[0m\u001b[0;36m1\u001b[0m\u001b[0;34m]\u001b[0m\u001b[0;34m,\u001b[0m\u001b[0;34m[\u001b[0m\u001b[0;36m1\u001b[0m\u001b[0;34m,\u001b[0m\u001b[0;34m-\u001b[0m\u001b[0;36m2\u001b[0m\u001b[0;34m,\u001b[0m\u001b[0;34m-\u001b[0m\u001b[0;36m3\u001b[0m\u001b[0;34m]\u001b[0m\u001b[0;34m]\u001b[0m\u001b[0;34m)\u001b[0m\u001b[0;34m\u001b[0m\u001b[0;34m\u001b[0m\u001b[0m\n\u001b[1;32m    322\u001b[0m         \u001b[0;32mdef\u001b[0m \u001b[0mHAproduct\u001b[0m\u001b[0;34m(\u001b[0m\u001b[0mL\u001b[0m\u001b[0;34m,\u001b[0m\u001b[0mmpo\u001b[0m\u001b[0;34m,\u001b[0m\u001b[0mR\u001b[0m\u001b[0;34m,\u001b[0m\u001b[0mmps\u001b[0m\u001b[0;34m)\u001b[0m\u001b[0;34m:\u001b[0m\u001b[0;34m\u001b[0m\u001b[0;34m\u001b[0m\u001b[0m\n\u001b[0;32m--> 323\u001b[0;31m             \u001b[0;32mreturn\u001b[0m \u001b[0mncon\u001b[0m\u001b[0;34m.\u001b[0m\u001b[0mncon\u001b[0m\u001b[0;34m(\u001b[0m\u001b[0;34m[\u001b[0m\u001b[0mL\u001b[0m\u001b[0;34m,\u001b[0m\u001b[0mmps\u001b[0m\u001b[0;34m,\u001b[0m\u001b[0mmpo\u001b[0m\u001b[0;34m,\u001b[0m\u001b[0mR\u001b[0m\u001b[0;34m]\u001b[0m\u001b[0;34m,\u001b[0m\u001b[0;34m[\u001b[0m\u001b[0;34m[\u001b[0m\u001b[0;36m1\u001b[0m\u001b[0;34m,\u001b[0m\u001b[0;34m-\u001b[0m\u001b[0;36m1\u001b[0m\u001b[0;34m,\u001b[0m\u001b[0;36m2\u001b[0m\u001b[0;34m]\u001b[0m\u001b[0;34m,\u001b[0m\u001b[0;34m[\u001b[0m\u001b[0;36m1\u001b[0m\u001b[0;34m,\u001b[0m\u001b[0;36m4\u001b[0m\u001b[0;34m,\u001b[0m\u001b[0;36m3\u001b[0m\u001b[0;34m]\u001b[0m\u001b[0;34m,\u001b[0m\u001b[0;34m[\u001b[0m\u001b[0;36m2\u001b[0m\u001b[0;34m,\u001b[0m\u001b[0;36m5\u001b[0m\u001b[0;34m,\u001b[0m\u001b[0;34m-\u001b[0m\u001b[0;36m3\u001b[0m\u001b[0;34m,\u001b[0m\u001b[0;36m3\u001b[0m\u001b[0;34m]\u001b[0m\u001b[0;34m,\u001b[0m\u001b[0;34m[\u001b[0m\u001b[0;36m4\u001b[0m\u001b[0;34m,\u001b[0m\u001b[0;34m-\u001b[0m\u001b[0;36m2\u001b[0m\u001b[0;34m,\u001b[0m\u001b[0;36m5\u001b[0m\u001b[0;34m]\u001b[0m\u001b[0;34m]\u001b[0m\u001b[0;34m)\u001b[0m\u001b[0;34m\u001b[0m\u001b[0;34m\u001b[0m\u001b[0m\n\u001b[0m\u001b[1;32m    324\u001b[0m         \u001b[0mmv\u001b[0m\u001b[0;34m=\u001b[0m\u001b[0mfct\u001b[0m\u001b[0;34m.\u001b[0m\u001b[0mpartial\u001b[0m\u001b[0;34m(\u001b[0m\u001b[0mHAproduct\u001b[0m\u001b[0;34m,\u001b[0m\u001b[0;34m*\u001b[0m\u001b[0;34m[\u001b[0m\u001b[0mself\u001b[0m\u001b[0;34m.\u001b[0m\u001b[0mleftEnv\u001b[0m\u001b[0;34m(\u001b[0m\u001b[0mself\u001b[0m\u001b[0;34m.\u001b[0m\u001b[0mmps\u001b[0m\u001b[0;34m.\u001b[0m\u001b[0mpos\u001b[0m\u001b[0;34m)\u001b[0m\u001b[0;34m,\u001b[0m\u001b[0mself\u001b[0m\u001b[0;34m.\u001b[0m\u001b[0mmpo\u001b[0m\u001b[0;34m[\u001b[0m\u001b[0mself\u001b[0m\u001b[0;34m.\u001b[0m\u001b[0mmps\u001b[0m\u001b[0;34m.\u001b[0m\u001b[0mpos\u001b[0m\u001b[0;34m]\u001b[0m\u001b[0;34m,\u001b[0m\u001b[0mself\u001b[0m\u001b[0;34m.\u001b[0m\u001b[0mrightEnv\u001b[0m\u001b[0;34m(\u001b[0m\u001b[0mself\u001b[0m\u001b[0;34m.\u001b[0m\u001b[0mmps\u001b[0m\u001b[0;34m.\u001b[0m\u001b[0mpos\u001b[0m\u001b[0;34m)\u001b[0m\u001b[0;34m]\u001b[0m\u001b[0;34m)\u001b[0m\u001b[0;34m\u001b[0m\u001b[0;34m\u001b[0m\u001b[0m\n\u001b[1;32m    325\u001b[0m         \u001b[0mlan\u001b[0m\u001b[0;34m=\u001b[0m\u001b[0mLZ\u001b[0m\u001b[0;34m.\u001b[0m\u001b[0mLanczosEngine\u001b[0m\u001b[0;34m(\u001b[0m\u001b[0mmv\u001b[0m\u001b[0;34m,\u001b[0m\u001b[0mNdiag\u001b[0m\u001b[0;34m=\u001b[0m\u001b[0mNdiag\u001b[0m\u001b[0;34m,\u001b[0m\u001b[0mncv\u001b[0m\u001b[0;34m=\u001b[0m\u001b[0mncv\u001b[0m\u001b[0;34m,\u001b[0m\u001b[0mnumeig\u001b[0m\u001b[0;34m=\u001b[0m\u001b[0;36m1\u001b[0m\u001b[0;34m,\u001b[0m\u001b[0mdelta\u001b[0m\u001b[0;34m=\u001b[0m\u001b[0mlandelta\u001b[0m\u001b[0;34m,\u001b[0m\u001b[0mdeltaEta\u001b[0m\u001b[0;34m=\u001b[0m\u001b[0mlandeltaEta\u001b[0m\u001b[0;34m)\u001b[0m\u001b[0;34m\u001b[0m\u001b[0;34m\u001b[0m\u001b[0m\n",
      "\u001b[0;32m~/workspace/git_repos/PyTeN/lib/ncon/ncon.py\u001b[0m in \u001b[0;36mncon\u001b[0;34m(AA, v, order, forder, check_indices)\u001b[0m\n\u001b[1;32m     69\u001b[0m         \u001b[0;32melse\u001b[0m\u001b[0;34m:\u001b[0m\u001b[0;34m\u001b[0m\u001b[0;34m\u001b[0m\u001b[0m\n\u001b[1;32m     70\u001b[0m             \u001b[0;31m# Contraction of 2 tensors\u001b[0m\u001b[0;34m\u001b[0m\u001b[0;34m\u001b[0m\u001b[0;34m\u001b[0m\u001b[0m\n\u001b[0;32m---> 71\u001b[0;31m             \u001b[0mnew_A\u001b[0m \u001b[0;34m=\u001b[0m \u001b[0mcon\u001b[0m\u001b[0;34m(\u001b[0m\u001b[0mAA\u001b[0m\u001b[0;34m[\u001b[0m\u001b[0mtcon\u001b[0m\u001b[0;34m[\u001b[0m\u001b[0;36m0\u001b[0m\u001b[0;34m]\u001b[0m\u001b[0;34m]\u001b[0m\u001b[0;34m,\u001b[0m \u001b[0mAA\u001b[0m\u001b[0;34m[\u001b[0m\u001b[0mtcon\u001b[0m\u001b[0;34m[\u001b[0m\u001b[0;36m1\u001b[0m\u001b[0;34m]\u001b[0m\u001b[0;34m]\u001b[0m\u001b[0;34m,\u001b[0m \u001b[0;34m(\u001b[0m\u001b[0mpos1\u001b[0m\u001b[0;34m,\u001b[0m \u001b[0mpos2\u001b[0m\u001b[0;34m)\u001b[0m\u001b[0;34m)\u001b[0m\u001b[0;34m\u001b[0m\u001b[0;34m\u001b[0m\u001b[0m\n\u001b[0m\u001b[1;32m     72\u001b[0m         \u001b[0mAA\u001b[0m\u001b[0;34m.\u001b[0m\u001b[0mappend\u001b[0m\u001b[0;34m(\u001b[0m\u001b[0mnew_A\u001b[0m\u001b[0;34m)\u001b[0m\u001b[0;34m\u001b[0m\u001b[0;34m\u001b[0m\u001b[0m\n\u001b[1;32m     73\u001b[0m         \u001b[0mv\u001b[0m\u001b[0;34m.\u001b[0m\u001b[0mappend\u001b[0m\u001b[0;34m(\u001b[0m\u001b[0mfind_newv\u001b[0m\u001b[0;34m(\u001b[0m\u001b[0mv\u001b[0m\u001b[0;34m,\u001b[0m \u001b[0mtcon\u001b[0m\u001b[0;34m,\u001b[0m \u001b[0micon\u001b[0m\u001b[0;34m)\u001b[0m\u001b[0;34m)\u001b[0m  \u001b[0;31m# Add the v for the new tensor\u001b[0m\u001b[0;34m\u001b[0m\u001b[0;34m\u001b[0m\u001b[0m\n",
      "\u001b[0;32m~/workspace/git_repos/PyTeN/lib/ncon/ncon.py\u001b[0m in \u001b[0;36mcon\u001b[0;34m(A, B, inds)\u001b[0m\n\u001b[1;32m    315\u001b[0m \u001b[0;32mdef\u001b[0m \u001b[0mcon\u001b[0m\u001b[0;34m(\u001b[0m\u001b[0mA\u001b[0m\u001b[0;34m,\u001b[0m \u001b[0mB\u001b[0m\u001b[0;34m,\u001b[0m \u001b[0minds\u001b[0m\u001b[0;34m)\u001b[0m\u001b[0;34m:\u001b[0m\u001b[0;34m\u001b[0m\u001b[0;34m\u001b[0m\u001b[0m\n\u001b[1;32m    316\u001b[0m     \u001b[0;32mif\u001b[0m \u001b[0misinstance\u001b[0m\u001b[0;34m(\u001b[0m\u001b[0mA\u001b[0m\u001b[0;34m,\u001b[0m\u001b[0mnp\u001b[0m\u001b[0;34m.\u001b[0m\u001b[0mndarray\u001b[0m\u001b[0;34m)\u001b[0m \u001b[0;32mand\u001b[0m \u001b[0misinstance\u001b[0m\u001b[0;34m(\u001b[0m\u001b[0mB\u001b[0m\u001b[0;34m,\u001b[0m\u001b[0mnp\u001b[0m\u001b[0;34m.\u001b[0m\u001b[0mndarray\u001b[0m\u001b[0;34m)\u001b[0m\u001b[0;34m:\u001b[0m\u001b[0;34m\u001b[0m\u001b[0;34m\u001b[0m\u001b[0m\n\u001b[0;32m--> 317\u001b[0;31m         \u001b[0;32mreturn\u001b[0m \u001b[0mnp\u001b[0m\u001b[0;34m.\u001b[0m\u001b[0mtensordot\u001b[0m\u001b[0;34m(\u001b[0m\u001b[0mA\u001b[0m\u001b[0;34m,\u001b[0m \u001b[0mB\u001b[0m\u001b[0;34m,\u001b[0m \u001b[0minds\u001b[0m\u001b[0;34m)\u001b[0m\u001b[0;34m.\u001b[0m\u001b[0mview\u001b[0m\u001b[0;34m(\u001b[0m\u001b[0mtype\u001b[0m\u001b[0;34m(\u001b[0m\u001b[0mA\u001b[0m\u001b[0;34m)\u001b[0m\u001b[0;34m)\u001b[0m\u001b[0;34m\u001b[0m\u001b[0;34m\u001b[0m\u001b[0m\n\u001b[0m\u001b[1;32m    318\u001b[0m     \u001b[0;32melse\u001b[0m\u001b[0;34m:\u001b[0m\u001b[0;34m\u001b[0m\u001b[0;34m\u001b[0m\u001b[0m\n\u001b[1;32m    319\u001b[0m         \u001b[0;32mreturn\u001b[0m \u001b[0mA\u001b[0m\u001b[0;34m.\u001b[0m\u001b[0mtensordot\u001b[0m\u001b[0;34m(\u001b[0m\u001b[0mB\u001b[0m\u001b[0;34m,\u001b[0m \u001b[0minds\u001b[0m\u001b[0;34m)\u001b[0m\u001b[0;34m\u001b[0m\u001b[0;34m\u001b[0m\u001b[0m\n",
      "\u001b[0;32m~/anaconda3/lib/python3.7/site-packages/numpy/core/numeric.py\u001b[0m in \u001b[0;36mtensordot\u001b[0;34m(a, b, axes)\u001b[0m\n\u001b[1;32m   1312\u001b[0m     \u001b[0mat\u001b[0m \u001b[0;34m=\u001b[0m \u001b[0ma\u001b[0m\u001b[0;34m.\u001b[0m\u001b[0mtranspose\u001b[0m\u001b[0;34m(\u001b[0m\u001b[0mnewaxes_a\u001b[0m\u001b[0;34m)\u001b[0m\u001b[0;34m.\u001b[0m\u001b[0mreshape\u001b[0m\u001b[0;34m(\u001b[0m\u001b[0mnewshape_a\u001b[0m\u001b[0;34m)\u001b[0m\u001b[0;34m\u001b[0m\u001b[0;34m\u001b[0m\u001b[0m\n\u001b[1;32m   1313\u001b[0m     \u001b[0mbt\u001b[0m \u001b[0;34m=\u001b[0m \u001b[0mb\u001b[0m\u001b[0;34m.\u001b[0m\u001b[0mtranspose\u001b[0m\u001b[0;34m(\u001b[0m\u001b[0mnewaxes_b\u001b[0m\u001b[0;34m)\u001b[0m\u001b[0;34m.\u001b[0m\u001b[0mreshape\u001b[0m\u001b[0;34m(\u001b[0m\u001b[0mnewshape_b\u001b[0m\u001b[0;34m)\u001b[0m\u001b[0;34m\u001b[0m\u001b[0;34m\u001b[0m\u001b[0m\n\u001b[0;32m-> 1314\u001b[0;31m     \u001b[0mres\u001b[0m \u001b[0;34m=\u001b[0m \u001b[0mdot\u001b[0m\u001b[0;34m(\u001b[0m\u001b[0mat\u001b[0m\u001b[0;34m,\u001b[0m \u001b[0mbt\u001b[0m\u001b[0;34m)\u001b[0m\u001b[0;34m\u001b[0m\u001b[0;34m\u001b[0m\u001b[0m\n\u001b[0m\u001b[1;32m   1315\u001b[0m     \u001b[0;32mreturn\u001b[0m \u001b[0mres\u001b[0m\u001b[0;34m.\u001b[0m\u001b[0mreshape\u001b[0m\u001b[0;34m(\u001b[0m\u001b[0molda\u001b[0m \u001b[0;34m+\u001b[0m \u001b[0moldb\u001b[0m\u001b[0;34m)\u001b[0m\u001b[0;34m\u001b[0m\u001b[0;34m\u001b[0m\u001b[0m\n\u001b[1;32m   1316\u001b[0m \u001b[0;34m\u001b[0m\u001b[0m\n",
      "\u001b[0;31mKeyboardInterrupt\u001b[0m: "
     ]
    }
   ],
   "source": [
    "dmrg.runOneSite(verbose=1,Econv=1E-10,Nsweeps=40,ncv=100)"
   ]
  },
  {
   "cell_type": "code",
   "execution_count": 8,
   "metadata": {},
   "outputs": [
    {
     "name": "stdout",
     "output_type": "stream",
     "text": [
      "[1, 2, 4, 8, 16, 32, 64, 118, 158, 209, 233, 270, 292, 316, 328, 355, 373, 392, 411, 415, 449, 453, 472, 477, 493, 499, 521, 523, 537, 546, 555, 565, 564, 580, 577, 588, 600, 604, 614, 614, 624, 400, 400, 400, 400, 400, 400, 400, 400, 400, 400, 400, 400, 400, 400, 400, 400, 400, 400, 400, 400, 595, 593, 575, 560, 553, 549, 533, 524, 512, 484, 475, 474, 468, 458, 445, 445, 425, 427, 429, 417, 404, 399, 382, 361, 346, 320, 306, 283, 268, 227, 207, 155, 114, 64, 32, 16, 8, 4, 2, 1]\n"
     ]
    }
   ],
   "source": [
    "print(dmrg.mps.D)\n"
   ]
  },
  {
   "cell_type": "code",
   "execution_count": 5,
   "metadata": {},
   "outputs": [
    {
     "name": "stdout",
     "output_type": "stream",
     "text": [
      "[1, 2, 4, 8, 10, 10, 10, 10, 10, 10, 10, 10, 10, 10, 10, 10, 10, 10, 10, 10, 10, 10, 10, 10, 10, 10, 10, 10, 10, 10, 10, 10, 10, 10, 10, 10, 10, 10, 10, 10, 10, 10, 10, 10, 10, 10, 10, 10, 10, 10, 10, 10, 10, 10, 10, 10, 10, 10, 10, 10, 10, 10, 10, 10, 10, 10, 10, 10, 10, 10, 10, 10, 10, 10, 10, 10, 10, 10, 10, 10, 10, 10, 10, 10, 10, 10, 10, 10, 10, 10, 10, 10, 10, 10, 10, 10, 10, 8, 4, 2, 1]\n"
     ]
    }
   ],
   "source": [
    "print(dmrg.mps.D)"
   ]
  },
  {
   "cell_type": "code",
   "execution_count": 15,
   "metadata": {},
   "outputs": [
    {
     "name": "stdout",
     "output_type": "stream",
     "text": [
      "SS-DMRG it=1/10, site=1/100: optimized E=-1.6811252684086861+0.0000000000000000 at D=222"
     ]
    },
    {
     "ename": "PicklingError",
     "evalue": "Can't pickle <class 'lib.mpslib.SimContainer.DMRGengine'>: it's not the same object as lib.mpslib.SimContainer.DMRGengine",
     "output_type": "error",
     "traceback": [
      "\u001b[0;31m---------------------------------------------------------------------------\u001b[0m",
      "\u001b[0;31mPicklingError\u001b[0m                             Traceback (most recent call last)",
      "\u001b[0;32m<ipython-input-15-6556a6d9f0d7>\u001b[0m in \u001b[0;36m<module>\u001b[0;34m()\u001b[0m\n\u001b[0;32m----> 1\u001b[0;31m \u001b[0mdmrg\u001b[0m\u001b[0;34m.\u001b[0m\u001b[0mrunOneSite\u001b[0m\u001b[0;34m(\u001b[0m\u001b[0mverbose\u001b[0m\u001b[0;34m=\u001b[0m\u001b[0;36m1\u001b[0m\u001b[0;34m,\u001b[0m\u001b[0mEconv\u001b[0m\u001b[0;34m=\u001b[0m\u001b[0;36m1E-10\u001b[0m\u001b[0;34m,\u001b[0m\u001b[0mNsweeps\u001b[0m\u001b[0;34m=\u001b[0m\u001b[0;36m10\u001b[0m\u001b[0;34m,\u001b[0m\u001b[0mcp\u001b[0m\u001b[0;34m=\u001b[0m\u001b[0;36m1\u001b[0m\u001b[0;34m)\u001b[0m\u001b[0;34m\u001b[0m\u001b[0;34m\u001b[0m\u001b[0m\n\u001b[0m",
      "\u001b[0;32m~/workspace/git_repos/PyTeN/lib/mpslib/SimContainer.py\u001b[0m in \u001b[0;36mrunOneSite\u001b[0;34m(self, Nsweeps, Econv, ncv, cp, verbose, numvecs, Ndiag, landelta, landeltaEta)\u001b[0m\n\u001b[1;32m    404\u001b[0m \u001b[0;34m\u001b[0m\u001b[0m\n\u001b[1;32m    405\u001b[0m             \u001b[0;32mif\u001b[0m \u001b[0mcp\u001b[0m\u001b[0;34m!=\u001b[0m\u001b[0;32mNone\u001b[0m \u001b[0;32mand\u001b[0m \u001b[0mself\u001b[0m\u001b[0;34m.\u001b[0m\u001b[0m_it\u001b[0m\u001b[0;34m>\u001b[0m\u001b[0;36m0\u001b[0m \u001b[0;32mand\u001b[0m \u001b[0mself\u001b[0m\u001b[0;34m.\u001b[0m\u001b[0m_it\u001b[0m\u001b[0;34m%\u001b[0m\u001b[0mcp\u001b[0m\u001b[0;34m==\u001b[0m\u001b[0;36m0\u001b[0m\u001b[0;34m:\u001b[0m\u001b[0;34m\u001b[0m\u001b[0;34m\u001b[0m\u001b[0m\n\u001b[0;32m--> 406\u001b[0;31m                 \u001b[0mself\u001b[0m\u001b[0;34m.\u001b[0m\u001b[0msave\u001b[0m\u001b[0;34m(\u001b[0m\u001b[0mself\u001b[0m\u001b[0;34m.\u001b[0m\u001b[0mname\u001b[0m\u001b[0;34m+\u001b[0m\u001b[0;34m'_dmrg_cp'\u001b[0m\u001b[0;34m)\u001b[0m\u001b[0;34m\u001b[0m\u001b[0;34m\u001b[0m\u001b[0m\n\u001b[0m\u001b[1;32m    407\u001b[0m             \u001b[0mself\u001b[0m\u001b[0;34m.\u001b[0m\u001b[0m_it\u001b[0m\u001b[0;34m=\u001b[0m\u001b[0mself\u001b[0m\u001b[0;34m.\u001b[0m\u001b[0m_it\u001b[0m\u001b[0;34m+\u001b[0m\u001b[0;36m1\u001b[0m\u001b[0;34m\u001b[0m\u001b[0;34m\u001b[0m\u001b[0m\n\u001b[1;32m    408\u001b[0m             \u001b[0;32mif\u001b[0m \u001b[0mself\u001b[0m\u001b[0;34m.\u001b[0m\u001b[0m_it\u001b[0m\u001b[0;34m>\u001b[0m\u001b[0mNsweeps\u001b[0m\u001b[0;34m:\u001b[0m\u001b[0;34m\u001b[0m\u001b[0;34m\u001b[0m\u001b[0m\n",
      "\u001b[0;32m~/workspace/git_repos/PyTeN/lib/mpslib/Container.py\u001b[0m in \u001b[0;36msave\u001b[0;34m(self, filename)\u001b[0m\n\u001b[1;32m     42\u001b[0m         \u001b[0;32mif\u001b[0m \u001b[0mfilename\u001b[0m \u001b[0;34m!=\u001b[0m \u001b[0;32mNone\u001b[0m\u001b[0;34m:\u001b[0m\u001b[0;34m\u001b[0m\u001b[0;34m\u001b[0m\u001b[0m\n\u001b[1;32m     43\u001b[0m             \u001b[0;32mwith\u001b[0m \u001b[0mopen\u001b[0m\u001b[0;34m(\u001b[0m\u001b[0mfilename\u001b[0m\u001b[0;34m+\u001b[0m\u001b[0;34m'.pickle'\u001b[0m\u001b[0;34m,\u001b[0m \u001b[0;34m'wb'\u001b[0m\u001b[0;34m)\u001b[0m \u001b[0;32mas\u001b[0m \u001b[0mf\u001b[0m\u001b[0;34m:\u001b[0m\u001b[0;34m\u001b[0m\u001b[0;34m\u001b[0m\u001b[0m\n\u001b[0;32m---> 44\u001b[0;31m                 \u001b[0mpickle\u001b[0m\u001b[0;34m.\u001b[0m\u001b[0mdump\u001b[0m\u001b[0;34m(\u001b[0m\u001b[0mself\u001b[0m\u001b[0;34m,\u001b[0m\u001b[0mf\u001b[0m\u001b[0;34m)\u001b[0m\u001b[0;34m\u001b[0m\u001b[0;34m\u001b[0m\u001b[0m\n\u001b[0m\u001b[1;32m     45\u001b[0m         \u001b[0;32melif\u001b[0m \u001b[0mself\u001b[0m\u001b[0;34m.\u001b[0m\u001b[0mname\u001b[0m \u001b[0;34m!=\u001b[0m \u001b[0;32mNone\u001b[0m\u001b[0;34m:\u001b[0m\u001b[0;34m\u001b[0m\u001b[0;34m\u001b[0m\u001b[0m\n\u001b[1;32m     46\u001b[0m             \u001b[0;32mwith\u001b[0m \u001b[0mopen\u001b[0m\u001b[0;34m(\u001b[0m\u001b[0mself\u001b[0m\u001b[0;34m.\u001b[0m\u001b[0mname\u001b[0m\u001b[0;34m+\u001b[0m\u001b[0;34m'.pickle'\u001b[0m\u001b[0;34m,\u001b[0m \u001b[0;34m'wb'\u001b[0m\u001b[0;34m)\u001b[0m \u001b[0;32mas\u001b[0m \u001b[0mf\u001b[0m\u001b[0;34m:\u001b[0m\u001b[0;34m\u001b[0m\u001b[0;34m\u001b[0m\u001b[0m\n",
      "\u001b[0;31mPicklingError\u001b[0m: Can't pickle <class 'lib.mpslib.SimContainer.DMRGengine'>: it's not the same object as lib.mpslib.SimContainer.DMRGengine"
     ]
    }
   ],
   "source": [
    "dmrg.runOneSite(verbose=1,Econv=1E-10,Nsweeps=10,cp=1)"
   ]
  },
  {
   "cell_type": "code",
   "execution_count": 7,
   "metadata": {},
   "outputs": [
    {
     "name": "stdout",
     "output_type": "stream",
     "text": [
      "[1, 2, 4, 8, 10, 10, 10, 10, 10, 10, 10, 10, 10, 10, 10, 10, 10, 10, 10, 10, 10, 10, 10, 10, 10, 10, 10, 10, 10, 10, 10, 10, 10, 10, 10, 10, 10, 10, 10, 10, 10, 10, 10, 10, 10, 10, 10, 10, 10, 10, 10, 10, 10, 10, 10, 10, 10, 10, 10, 10, 10, 10, 10, 10, 10, 10, 10, 10, 10, 10, 10, 10, 10, 10, 10, 10, 10, 10, 10, 10, 10, 10, 10, 10, 10, 10, 10, 10, 10, 10, 10, 10, 10, 10, 10, 10, 10, 8, 4, 2, 1]\n",
      "\u001b[1m\u001b[34m2019123_TFI_VUMPSD128_Jx-1.0_B1.0\u001b[m\u001b[m\r\n",
      "\u001b[1m\u001b[34m2019123_TFI_VUMPSD256_Jx-1.0_B1.0\u001b[m\u001b[m\r\n",
      "\u001b[1m\u001b[34m201918_TFI_ITEBDD32_Jx-1.0_B1.0_dt(-0-0.01j)\u001b[m\u001b[m\r\n",
      "\u001b[1m\u001b[34m201918_TFI_ITEBDD8_Jx-1.0_B1.0_dt(-0-0.01j)\u001b[m\u001b[m\r\n",
      "\u001b[1m\u001b[34m201918_TFI_VUMPSD32_Jx-1.0_B1.0\u001b[m\u001b[m\r\n",
      "\u001b[1m\u001b[34m201918_TFI_VUMPS_TDVPD32_Jx-1.0_B1.0_dt(-0-0.01j)\u001b[m\u001b[m\r\n",
      "\u001b[1m\u001b[34m201918_TFI_VUMPS_TDVPD32_Jx-1.0_B1.0_dt(0.1+0j)\u001b[m\u001b[m\r\n",
      "\u001b[1m\u001b[34m201918_TFI_VUMPS_TDVPD32_Jx-1.0_B1.0_dt(1+0j)\u001b[m\u001b[m\r\n",
      "\u001b[1m\u001b[34m201918_TFI_VUMPS_TDVPD32_Jx-1.0_B1.0_dt0.1j\u001b[m\u001b[m\r\n",
      "\u001b[1m\u001b[34m201918_TFI_VUMPS_TDVPD32_Jx-1.0_B1.0_dt1j\u001b[m\u001b[m\r\n",
      "Branching.py\r\n",
      "DMRG_dmrg_cp.pickle\r\n",
      "HeisIDMRG.py\r\n",
      "HeisIMPS.py\r\n",
      "HeisMPS.py\r\n",
      "HeisVUMPS.py\r\n",
      "ITEBD.py\r\n",
      "ITEBD.py~\r\n",
      "TDVPproductState.py\r\n",
      "TEBD.py\r\n",
      "TEBDproductState.py\r\n",
      "TFI.py\r\n",
      "TFIIDMRG.py\r\n",
      "TFITDVP.py\r\n",
      "TFI_VUMPS.py\r\n",
      "TFI_VUMPS_TDVP.py\r\n",
      "Untitled.ipynb\r\n"
     ]
    }
   ],
   "source": [
    "print(dmrg.mps.D)\n",
    "!ls"
   ]
  },
  {
   "cell_type": "code",
   "execution_count": 10,
   "metadata": {},
   "outputs": [],
   "source": [
    "dmrg2=SCT.DMRGengine.read('DMRG_dmrg_cp.pickle')"
   ]
  },
  {
   "cell_type": "code",
   "execution_count": 11,
   "metadata": {},
   "outputs": [
    {
     "name": "stdout",
     "output_type": "stream",
     "text": [
      "[1, 2, 4, 8, 10, 10, 10, 10, 10, 10, 10, 10, 10, 10, 10, 10, 10, 10, 10, 10, 10, 10, 10, 10, 10, 10, 10, 10, 10, 10, 10, 10, 10, 10, 10, 10, 10, 10, 10, 10, 10, 10, 10, 10, 10, 10, 10, 10, 10, 10, 10, 10, 10, 10, 10, 10, 10, 10, 10, 10, 10, 10, 10, 10, 10, 10, 10, 10, 10, 10, 10, 10, 10, 10, 10, 10, 10, 10, 10, 10, 10, 10, 10, 10, 10, 10, 10, 10, 10, 10, 10, 10, 10, 10, 10, 10, 10, 8, 4, 2, 1]\n"
     ]
    }
   ],
   "source": [
    "print(dmrg2.mps.D)"
   ]
  },
  {
   "cell_type": "code",
   "execution_count": 12,
   "metadata": {},
   "outputs": [
    {
     "name": "stdout",
     "output_type": "stream",
     "text": [
      "1\n",
      "2\n"
     ]
    },
    {
     "data": {
      "text/plain": [
       "array([-44.11635951])"
      ]
     },
     "execution_count": 12,
     "metadata": {},
     "output_type": "execute_result"
    }
   ],
   "source": []
  },
  {
   "cell_type": "code",
   "execution_count": null,
   "metadata": {},
   "outputs": [],
   "source": []
  }
 ],
 "metadata": {
  "kernelspec": {
   "display_name": "Python 3",
   "language": "python",
   "name": "python3"
  },
  "language_info": {
   "codemirror_mode": {
    "name": "ipython",
    "version": 3
   },
   "file_extension": ".py",
   "mimetype": "text/x-python",
   "name": "python",
   "nbconvert_exporter": "python",
   "pygments_lexer": "ipython3",
   "version": "3.6.6"
  }
 },
 "nbformat": 4,
 "nbformat_minor": 2
}
